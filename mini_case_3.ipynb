{
 "cells": [
  {
   "cell_type": "markdown",
   "id": "5efbb3a8",
   "metadata": {},
   "source": [
    "\n",
    "## Your Task \n",
    "\n",
    "Your task is to 'get to know' the BBB customer data by conducting descriptive analysis on the Python dictionary. This case should be completed using only Python's built-in libraries and the `pickle` and `numpy` libraries. We will use the Pandas library **only** in case we need to add row and/or column names to a numpy array for convenient indexing."
   ]
  },
  {
   "cell_type": "markdown",
   "id": "b8bbedee",
   "metadata": {},
   "source": [
    "## For local analysis\n",
    "\n",
    "If you prefer to develop your code in VS Code in a Jupyter notebook, you can download <a href=\"cases/mini_case_3.ipynb\">mini_case_3.ipynb</a>. This notebook file has the same text and code snippets that you see on this webpage. After creating the required code, copy-and-paste it into the code-inputs on this webpage for testing. To complete all exercises below, you will also need data file: <a href=\"data/bbb_dct.pkl\">bbb_dct.pkl</a>.\n"
   ]
  },
  {
   "cell_type": "markdown",
   "id": "6ec7c4e1",
   "metadata": {},
   "source": [
    "## Questions"
   ]
  },
  {
   "cell_type": "code",
   "execution_count": 12,
   "id": "ba452d88",
   "metadata": {
    "name": "unnamed-chunk-1"
   },
   "outputs": [
    {
     "data": {
      "text/plain": [
       "dict"
      ]
     },
     "execution_count": 12,
     "metadata": {},
     "output_type": "execute_result"
    }
   ],
   "source": [
    "# Question 3.01: The folder `data_mgta403/` contains a file called\n",
    "# `bbb_dct.pkl` with the data described in Case 2. Load the dictionary using\n",
    "# `pickle` and assign the dictionary to a new variable `bbb_dct`. Each value\n",
    "# associated with a key is of type `list`. Convert each of these lists to a\n",
    "# numpy array.\n",
    "\n",
    "import numpy as np\n",
    "# use pandas **only** for indexing in this case\n",
    "# **not** for calculations\n",
    "import pandas as pd\n",
    "import pickle\n",
    "\n",
    "with open(\"data/bbb_dct.pkl\", \"rb\") as file:\n",
    "    bbb_dct = pickle.load(file)\n",
    "    \n",
    "# convert the 'values' in the dictionary from list to np.array\n",
    "bbb_dct = {i: np.array(bbb_dct[i]) for i in bbb_dct.keys()}\n",
    "\n",
    "type(bbb_dct) # should return dict\n",
    "type(bbb_dct[\"acctnum\"]) # should return numpy.ndarray"
   ]
  },
  {
   "cell_type": "code",
   "execution_count": 91,
   "id": "a13e38ac",
   "metadata": {
    "name": "unnamed-chunk-2"
   },
   "outputs": [
    {
     "name": "stdout",
     "output_type": "stream",
     "text": [
      "['F' 'M' 'O']\n"
     ]
    },
    {
     "data": {
      "text/plain": [
       "numpy.int64"
      ]
     },
     "execution_count": 91,
     "metadata": {},
     "output_type": "execute_result"
    }
   ],
   "source": [
    "# Question 3.02: How many of BookBinder's customers identify as female? Assign\n",
    "# your result to a new variable `count_female`. The return value should be of\n",
    "# type integer.\n",
    "\n",
    "# what levels does the \"gender\" variable have?\n",
    "gndr = bbb_dct[\"gender\"]\n",
    "glevels = np.unique(gndr)\n",
    "print(glevels)\n",
    "\n",
    "# calculate the number of customers that are female\n",
    "count_female = np.sum(gndr == \"F\")\n",
    "count_female\n",
    "type(count_female)\n"
   ]
  },
  {
   "cell_type": "code",
   "execution_count": 111,
   "id": "f24570cc",
   "metadata": {
    "name": "unnamed-chunk-3"
   },
   "outputs": [
    {
     "name": "stdout",
     "output_type": "stream",
     "text": [
      "(array(['F', 'M', 'O'], dtype='<U1'), array([29953, 16698,  3349]))\n"
     ]
    },
    {
     "ename": "TypeError",
     "evalue": "DataFrame.__init__() got multiple values for argument 'columns'",
     "output_type": "error",
     "traceback": [
      "\u001b[0;31m---------------------------------------------------------------------------\u001b[0m",
      "\u001b[0;31mTypeError\u001b[0m                                 Traceback (most recent call last)",
      "Cell \u001b[0;32mIn[111], line 24\u001b[0m\n\u001b[1;32m     17\u001b[0m \u001b[38;5;66;03m# calculate the proportion of observations per gender level\u001b[39;00m\n\u001b[1;32m     18\u001b[0m p_gender \u001b[38;5;241m=\u001b[39m pd\u001b[38;5;241m.\u001b[39mDataFrame({\n\u001b[1;32m     19\u001b[0m     \u001b[38;5;124m\"\u001b[39m\u001b[38;5;124mgen\u001b[39m\u001b[38;5;124m\"\u001b[39m: glevels, \n\u001b[1;32m     20\u001b[0m     \u001b[38;5;124m\"\u001b[39m\u001b[38;5;124mcount\u001b[39m\u001b[38;5;124m\"\u001b[39m: gcounts,\n\u001b[1;32m     21\u001b[0m     \u001b[38;5;124m\"\u001b[39m\u001b[38;5;124mnr\u001b[39m\u001b[38;5;124m\"\u001b[39m: gprop\n\u001b[1;32m     22\u001b[0m })\u001b[38;5;241m.\u001b[39mset_index(\u001b[38;5;124m\"\u001b[39m\u001b[38;5;124mgen\u001b[39m\u001b[38;5;124m\"\u001b[39m)\n\u001b[0;32m---> 24\u001b[0m p_gender \u001b[38;5;241m=\u001b[39m \u001b[43mpd\u001b[49m\u001b[38;5;241;43m.\u001b[39;49m\u001b[43mDataFrame\u001b[49m\u001b[43m(\u001b[49m\u001b[43mgtest\u001b[49m\u001b[43m[\u001b[49m\u001b[38;5;241;43m1\u001b[39;49m\u001b[43m]\u001b[49m\u001b[43m,\u001b[49m\u001b[43mgtest\u001b[49m\u001b[43m[\u001b[49m\u001b[38;5;241;43m1\u001b[39;49m\u001b[43m]\u001b[49m\u001b[43m,\u001b[49m\u001b[43mgtest\u001b[49m\u001b[43m[\u001b[49m\u001b[38;5;241;43m1\u001b[39;49m\u001b[43m]\u001b[49m\u001b[43m,\u001b[49m\u001b[43m \u001b[49m\u001b[43mcolumns\u001b[49m\u001b[38;5;241;43m=\u001b[39;49m\u001b[43m[\u001b[49m\u001b[38;5;124;43m\"\u001b[39;49m\u001b[38;5;124;43mnr\u001b[39;49m\u001b[38;5;124;43m\"\u001b[39;49m\u001b[43m]\u001b[49m\u001b[43m)\u001b[49m\n\u001b[1;32m     26\u001b[0m \u001b[38;5;28mprint\u001b[39m(p_gender)\n\u001b[1;32m     28\u001b[0m \u001b[38;5;66;03m# check types \u001b[39;00m\n\u001b[1;32m     29\u001b[0m \u001b[38;5;66;03m#type(p_gender) # should return pandas.DataFrame\u001b[39;00m\n\u001b[1;32m     30\u001b[0m \u001b[38;5;66;03m#type(p_gender.loc[\"M\", \"nr\"]) # should return numpy.float64\u001b[39;00m\n\u001b[1;32m     31\u001b[0m \n\u001b[1;32m     32\u001b[0m \u001b[38;5;66;03m#p_gender.loc[\"M\", \"nr\"]\u001b[39;00m\n\u001b[1;32m     33\u001b[0m \u001b[38;5;66;03m#type(gcounts)\u001b[39;00m\n",
      "\u001b[0;31mTypeError\u001b[0m: DataFrame.__init__() got multiple values for argument 'columns'"
     ]
    }
   ],
   "source": [
    "# Question 3.03: What proportion of BookBinder's customers identify as male?\n",
    "# Assign your result to a new Pandas DataFrame (`p_gender`) and ensure that\n",
    "# `p_gender.loc[\"M\", \"nr\"]` returns the value you want to submit as your\n",
    "# answer.\n",
    "\n",
    "# remember to use pandas **only** for indexing, **not** for calculations\n",
    "# use numpy to deter the number of cases for each level in the \"gender\" variable\n",
    "#counts = \n",
    "#type(counts) # should return tuple\n",
    "#counts\n",
    "total = len(gndr)\n",
    "glevels, gcounts = np.unique(gndr, return_counts=True)\n",
    "gtest = np.unique(gndr, return_counts=True)\n",
    "print(gtest)\n",
    "gprop = gcounts / total\n",
    "\n",
    "# calculate the proportion of observations per gender level\n",
    "p_gender = pd.DataFrame({\n",
    "    \"gen\": glevels, \n",
    "    \"count\": gcounts,\n",
    "    \"nr\": gprop\n",
    "}).set_index(\"gen\")\n",
    "\n",
    "print(p_gender)\n",
    "\n",
    "# check types \n",
    "type(p_gender) # should return pandas.DataFrame\n",
    "type(p_gender.loc[\"M\", \"nr\"]) # should return numpy.float64\n",
    "\n",
    "p_gender.loc[\"M\", \"nr\"]\n",
    "type(gcounts)"
   ]
  },
  {
   "cell_type": "code",
   "execution_count": 135,
   "id": "e38058b8",
   "metadata": {
    "name": "unnamed-chunk-4"
   },
   "outputs": [
    {
     "name": "stdout",
     "output_type": "stream",
     "text": [
      "[    5  2512   339   711  4252  4172   343   665 11068 16530  8718   402\n",
      "    27    45   211]\n",
      "      nr\n",
      "AE     5\n",
      "CT  2512\n",
      "DC   339\n",
      "DE   711\n",
      "MA  4252\n"
     ]
    },
    {
     "data": {
      "text/html": [
       "<div>\n",
       "<style scoped>\n",
       "    .dataframe tbody tr th:only-of-type {\n",
       "        vertical-align: middle;\n",
       "    }\n",
       "\n",
       "    .dataframe tbody tr th {\n",
       "        vertical-align: top;\n",
       "    }\n",
       "\n",
       "    .dataframe thead th {\n",
       "        text-align: right;\n",
       "    }\n",
       "</style>\n",
       "<table border=\"1\" class=\"dataframe\">\n",
       "  <thead>\n",
       "    <tr style=\"text-align: right;\">\n",
       "      <th></th>\n",
       "      <th>nr</th>\n",
       "    </tr>\n",
       "  </thead>\n",
       "  <tbody>\n",
       "    <tr>\n",
       "      <th>NY</th>\n",
       "      <td>16530</td>\n",
       "    </tr>\n",
       "    <tr>\n",
       "      <th>NJ</th>\n",
       "      <td>11068</td>\n",
       "    </tr>\n",
       "    <tr>\n",
       "      <th>PA</th>\n",
       "      <td>8718</td>\n",
       "    </tr>\n",
       "  </tbody>\n",
       "</table>\n",
       "</div>"
      ],
      "text/plain": [
       "       nr\n",
       "NY  16530\n",
       "NJ  11068\n",
       "PA   8718"
      ]
     },
     "execution_count": 135,
     "metadata": {},
     "output_type": "execute_result"
    }
   ],
   "source": [
    "# Question 3.04: Which three states have the most customers? Use numpy to\n",
    "# determine the number of customers in each state. Then create a pandas\n",
    "# DataFrame (`state_ncust`) that uses the state abbreviations as the `index`\n",
    "# and stores the number of customers per state in column `nr`. Sort the\n",
    "# DataFrame on number of customers in descending order, select the first three\n",
    "# rows of the array, and assign this sub-DataFrame to variable `big3`.\n",
    "\n",
    "# use numpy to count the number of customers per state\n",
    "counts = np.unique(bbb_dct[\"state\"], return_counts=True)\n",
    "\n",
    "type(counts) # should return tuple\n",
    "len(counts) # should return 2\n",
    "len(counts[1]) # should return 15\n",
    "type(counts[1])\n",
    "print(counts[1])\n",
    "\n",
    "# convert to a DataFrame and add an index and column name (\"nr\")\n",
    "state_ncust = pd.DataFrame({\"nr\": counts[1]}, index=counts[0])\n",
    "\n",
    "type(state_ncust)  # should return pandas.DataFrame\n",
    "state_ncust.shape  # should return (15, 1)\n",
    "print(state_ncust.head())\n",
    "\n",
    "# sort and index to get the 3 states with the most customers\n",
    "big3 = state_ncust.sort_values(\"nr\", ascending=False)[:3]\n",
    "type(big3)  # should return pandas.DataFrame\n",
    "big3.shape  # should return (3, 1)\n",
    "\n",
    "big3"
   ]
  },
  {
   "cell_type": "code",
   "execution_count": null,
   "id": "63f55921",
   "metadata": {
    "name": "unnamed-chunk-5"
   },
   "outputs": [],
   "source": [
    "# Question 3.05: Create a dictionary with the mean and standard deviation for\n",
    "# the `last`, `total`, and `purch` variables. Assign the dictionary to a new\n",
    "# variable `bbb_ms`. The dictionary should have length 3 and the keys should be\n",
    "# `last`, `total`, and `purch`. Each dictionary value should be a tuple with\n",
    "# the mean and standard deviation in that order. Use numpy methods (or\n",
    "# functions) to calculate `mean` and `std` from an array you create (`A`) that\n",
    "# contains `last`, `total`, and `purch` as its columns.\n",
    "\n",
    "# use numpy's mean and std functions or methods\n",
    "A = \n",
    "means = \n",
    "stds = \n",
    "bbb_ms = \n",
    "\n",
    "type(bbb_ms)  # should return dict\n",
    "len(bbb_ms)   # should return 3\n",
    "type(bbb_ms[\"last\"])  # should return tuple\n",
    "len(bbb_ms[\"last\"])  # should return 2\n",
    "\n",
    "bbb_ms"
   ]
  },
  {
   "cell_type": "code",
   "execution_count": null,
   "id": "2a39d32c",
   "metadata": {
    "name": "unnamed-chunk-6"
   },
   "outputs": [],
   "source": [
    "# Question 3.06: What is the (pearson) correlation between customers' total\n",
    "# spending on books (i.e., the `book` variable) and total spending on non-book\n",
    "# products (i.e., the `nonbook` variable)? Assign the correlation matrix to a\n",
    "# variable called `bbb_corr`. Double check that this variable is of type\n",
    "# `numpy.ndarray`.\n",
    "\n",
    "# use numpy to calculate the correlation matrix for 'book' and 'nonbook'\n",
    "bbb_corr = \n",
    "\n",
    "type(bbb_corr)  # should be of type numpy.ndarray\n",
    "bbb_corr.shape  # should return (2, 2)\n",
    "bbb_corr\n"
   ]
  },
  {
   "cell_type": "code",
   "execution_count": null,
   "id": "7ec4ee55",
   "metadata": {
    "name": "unnamed-chunk-7"
   },
   "outputs": [],
   "source": [
    "# Question 3.07: BBB sells books in 7 main categories. In which category does\n",
    "# BBB sell the most (least) books? Create a numpy array `bbb_books` with the\n",
    "# total number of books sold in each category. Convert the numpy array to a\n",
    "# pandas DataFrame. Set the index to the category names and columns to\n",
    "# `['nr']`. Next create an pandas DataFrame `bbb_minmax` that has the category\n",
    "# names of only the most and least selling book categories as the index and the\n",
    "# corresponding number of books sold in a column `nr`. `bbb_minmax` should be\n",
    "# sorted in descending order.\n",
    "\n",
    "categories = [\"child\", \"youth\", \"cook\", \"do_it\", \"reference\", \"art\", \"geog\"]\n",
    "\n",
    "# use numpy to create a one-dimensional array with 7 integer values \n",
    "bbb_books = \n",
    "\n",
    "# convert bbb_books to a pandas dataframe\n",
    "bbb_books = \n",
    "\n",
    "# use pandas for sorting and indexing\n",
    "bbb_minmax = \n",
    "\n",
    "type(bbb_books)   # should return pandas.DataFrame\n",
    "bbb_books.shape   # should return (7, 1)\n",
    "\n",
    "bbb_minmax"
   ]
  },
  {
   "cell_type": "code",
   "execution_count": null,
   "id": "ca0267ea",
   "metadata": {
    "name": "unnamed-chunk-8"
   },
   "outputs": [],
   "source": [
    "# Question 3.08: What is the mean for the \"book\" variable (i.e., $ spent on\n",
    "# books) for each gender? Create a dictionary (`bbb_mean_books`) that uses the\n",
    "# genders as the keys and the average of the `book` variable for a gender as\n",
    "# the value. Optional: Use the `seaborn` library to show the means as a\n",
    "# barplot.\n",
    "\n",
    "# define 'mean_gender' function and use numpy for calculations\n",
    "\n",
    "\n",
    "bbb_mean_books = \n",
    "\n",
    "type(bbb_mean_books)  # should return dict\n",
    "len(bbb_mean_books)   # should return 3\n",
    "\n",
    "bbb_mean_books\n",
    "\n",
    "# optional: Plot the means in a barplot\n",
    "import seaborn as sns\n",
    "import matplotlib.pyplot as plt\n",
    "\n",
    "# insert code for plot\n",
    "\n",
    "# show plot\n",
    "plt.show()"
   ]
  },
  {
   "cell_type": "code",
   "execution_count": null,
   "id": "f1b30dbd",
   "metadata": {
    "name": "unnamed-chunk-9"
   },
   "outputs": [],
   "source": [
    "# Question 3.09: What proportion of male/female/other customers bought _The Art\n",
    "# History of Florence_? Return a dictionary `bbb_ahf_buy` with the required\n",
    "# information. Double check that the dictionary has length 3 and contains the\n",
    "# numbers that capture the conditional probabilities of buying **given the\n",
    "# gender identity of a customer**.\n",
    "\n",
    "# define 'prop_gender' function and use numpy for calculations\n",
    "\n",
    "\n",
    "\n",
    "bbb_ahf_buy = \n",
    "\n",
    "type(bbb_ahf_buy)  # should return dict\n",
    "len(bbb_ahf_buy)   # should return 3\n",
    "\n",
    "bbb_ahf_buy"
   ]
  },
  {
   "cell_type": "code",
   "execution_count": null,
   "id": "68e79bba",
   "metadata": {
    "name": "unnamed-chunk-10"
   },
   "outputs": [],
   "source": [
    "# Question 3.10: Determine the minimum and maximum number of months between a\n",
    "# customers' first and last (i.e., most recent) purchase. Create a new entry in\n",
    "# the `bbb_dct` dictionary with key `mdiff` that captures the number of months\n",
    "# between the `first` and `last` purchase for each customer. Then, calculate\n",
    "# the minimum and maximum of this new variable. Return a dictionary `bbb_mdiff`\n",
    "# with the required information. Double check that the dictionary has length 3\n",
    "# and that the keys for the new dictionary are `min`, `max`, and `mean`.\n",
    "\n",
    "# adding to the bbb_dct dictionary\n",
    "bbb_dct[\"mdiff\"] = \n",
    "\n",
    "# option 1: use numpy's min, max, and mean methods\n",
    "bbb_mdiff = \n",
    "\n",
    "type(bbb_mdiff)  # should return dictionary\n",
    "len(bbb_mdiff)  # should return 3\n",
    "\n",
    "bbb_mdiff"
   ]
  },
  {
   "cell_type": "code",
   "execution_count": null,
   "id": "aa125280",
   "metadata": {
    "name": "unnamed-chunk-11"
   },
   "outputs": [],
   "source": [
    "# Question 3.11: What proportion of repeat customers (i.e., those with two or\n",
    "# more total purchases) bought _The Art History of Florence_? Return a `float`.\n",
    "\n",
    "bbb_prep = \n",
    "\n",
    "type(bbb_prep)  # should return a numpy.float\n",
    "\n",
    "bbb_prep"
   ]
  },
  {
   "cell_type": "code",
   "execution_count": null,
   "id": "c8a8d56b",
   "metadata": {
    "name": "unnamed-chunk-12"
   },
   "outputs": [],
   "source": [
    "# Question 3.12: If you used Code Interpreter in ChatGPT+, please provide the link to the chat session you used here. You can find the link by clicking on the 'Share' button in the upper right corner of the ChatGPT+ window as shown in the screenshot below. If you used another AI-tool, please provide your prompt and the URL for the tool."
   ]
  },
  {
   "cell_type": "markdown",
   "id": "8a23078d",
   "metadata": {},
   "source": [
    "<div style=\"text-align:center;\">\n",
    "  <img src=\"images/ebike-trails.png\" height=\"500px\" />\n",
    "</div>\n"
   ]
  },
  {
   "cell_type": "code",
   "execution_count": null,
   "id": "c6b987cc",
   "metadata": {
    "lines_to_next_cell": 0,
    "name": "unnamed-chunk-13"
   },
   "outputs": [],
   "source": [
    "# Question 3.13: Please write a short reflection on what Generative AI-tools were and were not useful for when you worked on this case. 3-4 lines of text should be sufficient."
   ]
  },
  {
   "cell_type": "markdown",
   "id": "8a89d54f",
   "metadata": {},
   "source": [
    "\n",
    "\n"
   ]
  }
 ],
 "metadata": {
  "jupytext": {
   "cell_metadata_filter": "name,-all"
  },
  "kernelspec": {
   "display_name": "Python 3 (ipykernel)",
   "language": "python",
   "name": "python3"
  },
  "language_info": {
   "codemirror_mode": {
    "name": "ipython",
    "version": 3
   },
   "file_extension": ".py",
   "mimetype": "text/x-python",
   "name": "python",
   "nbconvert_exporter": "python",
   "pygments_lexer": "ipython3",
   "version": "3.11.9"
  }
 },
 "nbformat": 4,
 "nbformat_minor": 5
}
