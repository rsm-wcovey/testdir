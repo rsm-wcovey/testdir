{
 "cells": [
  {
   "cell_type": "code",
   "execution_count": 118,
   "metadata": {},
   "outputs": [],
   "source": [
    "import numpy as np\n",
    "import pandas as pd\n",
    "import matplotlib.pyplot as plt\n",
    "from matplotlib.dates import DateFormatter"
   ]
  },
  {
   "cell_type": "code",
   "execution_count": 168,
   "metadata": {},
   "outputs": [],
   "source": [
    "hr12_arrival = [0] * 179\n",
    "hr12_arrival.append(1)\n",
    "hr12_arrival = hr12_arrival * 40\n",
    "\n",
    "hr34_arrival = [0] * 71\n",
    "hr34_arrival.append(1)\n",
    "hr34_arrival = hr34_arrival * 100\n",
    "\n",
    "hr5_arrival = [0] * 50\n",
    "hr5_arrival.append(1)\n",
    "hr5_arrival = hr5_arrival * 70"
   ]
  },
  {
   "cell_type": "code",
   "execution_count": 120,
   "metadata": {},
   "outputs": [],
   "source": [
    "#hr12_arrival = [1]\n",
    "#hr12_arrival.extend([0] * 179)\n",
    "#hr12_arrival = hr12_arrival * 40\n",
    "\n",
    "#hr34_arrival = [1]\n",
    "#hr34_arrival.extend([0] * 71)\n",
    "#hr34_arrival = hr34_arrival * 100\n",
    "\n",
    "#hr5_arrival = [1]\n",
    "#hr5_arrival.extend([0] * 50)\n",
    "#hr5_arrival = hr5_arrival * 70"
   ]
  },
  {
   "cell_type": "code",
   "execution_count": 169,
   "metadata": {},
   "outputs": [
    {
     "name": "stdout",
     "output_type": "stream",
     "text": [
      "210 183 28\n"
     ]
    }
   ],
   "source": [
    "\n",
    "\n",
    "time = pd.date_range(start='2024-02-28 00:00:00', end='2024-02-28 5:00:00', freq='s')\n",
    "\n",
    "arrivals = hr12_arrival + hr34_arrival + hr5_arrival\n",
    "extra_a = [0] * (len(time) - len(arrivals))\n",
    "arrivals = arrivals + extra_a\n",
    "\n",
    "hr12_output = [0] * 134\n",
    "hr12_output.append(1)\n",
    "hr12_output.extend([0] * 45)\n",
    "hr12_output = hr12_output * 40\n",
    "\n",
    "hr3_start = [0] * 134\n",
    "hr3_start.append(1)\n",
    "\n",
    "hr345_output = [0] * 74\n",
    "hr345_output.append(1)\n",
    "hr345_output = hr345_output * 142\n",
    "\n",
    "output = hr12_output + hr3_start + hr345_output\n",
    "extra_o = [0] * (len(time) - len(output))\n",
    "output = output + extra_o\n",
    "\n",
    "df = pd.DataFrame({'time': time, 'arrivals': arrivals, 'output': output})\n",
    "df['buildup'] = df.arrivals.cumsum() - df.output.cumsum()\n",
    "print(df.arrivals.sum(), df.output.sum(), df.buildup.max())\n"
   ]
  },
  {
   "cell_type": "code",
   "execution_count": 170,
   "metadata": {},
   "outputs": [
    {
     "name": "stdout",
     "output_type": "stream",
     "text": [
      "The average throughput or output rate was 20.00 customers per hour in \n",
      "the first two hours, 47.67 in the last three hours, and 36.60 overall.\n"
     ]
    }
   ],
   "source": [
    "output_rate = df.output.sum() / ((len(df.output)-1)/3600)\n",
    "output_rate12 = df.loc[df.time < pd.to_datetime('2024-02-28 02:00:00'),'output'].sum() / ((len(df.loc[df.time < pd.to_datetime('2024-02-28 02:00:00'),'output'])-1)/3600)\n",
    "output_rate345 = df.loc[df.time >= pd.to_datetime('2024-02-28 02:00:00'),'output'].sum() / ((len(df.loc[df.time >= pd.to_datetime('2024-02-28 02:00:00'),'output'])-1)/3600)\n",
    "print(f'The average throughput or output rate was {output_rate12:.2f} customers per hour in \\nthe first two hours, {output_rate345:.2f} in the last three hours, and {output_rate:.2f} overall.')"
   ]
  },
  {
   "cell_type": "code",
   "execution_count": 173,
   "metadata": {},
   "outputs": [
    {
     "name": "stdout",
     "output_type": "stream",
     "text": [
      "Total arrivals: 210, total output: 183, final build up: 27\n",
      "Total time waiting in line: 1336 minutes\n",
      "7.4222222222222225 4.438538205980066\n",
      "Customers that waited in line: 169, minutes with waiting: 179, average customers waiting: 7.46, average wait time per customer: 7.91 minutes - 6.36 minutes per customer\n"
     ]
    }
   ],
   "source": [
    "dfmin = df.groupby(pd.Grouper(key='time', freq='min')).agg({'arrivals': 'sum','output': 'sum'}).reset_index()\n",
    "dfmin['buildup'] = np.cumsum(dfmin['arrivals']) - np.cumsum(dfmin['output'])\n",
    "\n",
    "#plt.figure(figsize=(12, 6))\n",
    "#plt.bar(dfmin.time, dfmin.buildup, width=0.001)\n",
    "\n",
    "time_format = DateFormatter('%H:%M')  \n",
    "#plt.gca().xaxis.set_major_formatter(time_format)\n",
    "\n",
    "#plt.xlabel('Time')\n",
    "#plt.ylabel('Customers in Line')\n",
    "#plt.title('Build Up of Customers in Line')\n",
    "#plt.show()\n",
    "\n",
    "print(f\"Total arrivals: {dfmin.arrivals.sum()}, total output: {dfmin.output.sum()}, final build up: {dfmin.buildup.max()}\")\n",
    "print(f\"Total time waiting in line: {dfmin.buildup.sum()} minutes\")\n",
    "\n",
    "total_ctime = dfmin.buildup.sum() # in customer-minutes\n",
    "print(dfmin.loc[dfmin.buildup > 0, 'buildup'].mean(), dfmin.buildup.mean())\n",
    "cust_that_waited = dfmin.loc[dfmin.buildup > 0, 'arrivals'].sum() - 1\n",
    "minutes_with_waiting = dfmin.loc[dfmin.buildup > 0, 'time'].count() - 1\n",
    "\n",
    "print(f\"Customers that waited in line: {cust_that_waited}, minutes with waiting: {minutes_with_waiting}, average customers waiting: {total_ctime/minutes_with_waiting:.2f}, average wait time per customer: {total_ctime/cust_that_waited:.2f} minutes - {total_ctime/dfmin.arrivals.sum():.2f} minutes per customer\")"
   ]
  },
  {
   "cell_type": "code",
   "execution_count": 174,
   "metadata": {},
   "outputs": [],
   "source": [
    "time = pd.date_range(start='2024-02-28 00:00:00', end='2024-02-28 6:00:00', freq='s')\n",
    "\n",
    "arrivals = hr12_arrival + hr34_arrival + hr5_arrival\n",
    "extra_a = [0] * (len(time) - len(arrivals))\n",
    "arrivals = arrivals + extra_a\n",
    "\n",
    "hr12_output = [0] * 134\n",
    "hr12_output.append(1)\n",
    "hr12_output.extend([0] * 45)\n",
    "hr12_output = hr12_output * 40\n",
    "\n",
    "hr3_start = [0] * 134\n",
    "hr3_start.append(1)\n",
    "\n",
    "hr345_output = [0] * 74\n",
    "hr345_output.append(1)\n",
    "hr345_output = hr345_output * 190\n",
    "\n",
    "output = hr12_output + hr3_start + hr345_output\n",
    "extra_o = [0] * (len(time) - len(output))\n",
    "output = output + extra_o\n",
    "\n",
    "dfext = pd.DataFrame({'time': time, 'arrivals': arrivals, 'output': output})\n",
    "dfext['buildup'] = dfext.arrivals.cumsum() - dfext.output.cumsum()"
   ]
  },
  {
   "cell_type": "code",
   "execution_count": 175,
   "metadata": {},
   "outputs": [
    {
     "name": "stdout",
     "output_type": "stream",
     "text": [
      "Total arrivals: 210, total output: 231, final build up: 27\n",
      "Total time waiting in line: 1758 customer-minutes\n",
      "1758\n",
      "Customers that waited in line: 169, minutes with waiting: 211, average customers waiting: 8.33, average wait time per customer: 10.40 minutes\n",
      "The average throughput or output rate was 38.50 customers per hour , and in the last hour 25.42 .\n"
     ]
    }
   ],
   "source": [
    "dfxmin = dfext.groupby(pd.Grouper(key='time', freq='min')).agg({'arrivals': 'sum','output': 'sum'}).reset_index()\n",
    "dfxmin['buildup'] = np.cumsum(dfxmin['arrivals']) - np.cumsum(dfxmin['output'])\n",
    "\n",
    "print(f\"Total arrivals: {dfxmin.arrivals.sum()}, total output: {dfxmin.output.sum()}, final build up: {dfxmin.buildup.max()}\")\n",
    "print(f\"Total time waiting in line: {dfxmin.loc[dfxmin.time < pd.to_datetime('2024-02-28 05:33:00'), 'buildup'].sum()} customer-minutes\")\n",
    "\n",
    "total_ctime = dfxmin.loc[dfxmin.buildup > 0, 'buildup'].sum() # in customer-minutes\n",
    "print(total_ctime)\n",
    "#print(dfxmin.loc[dfxmin.buildup > 0, 'buildup'].mean(), dfxmin.buildup.mean())\n",
    "cust_that_waited = dfxmin.loc[dfxmin.buildup > 0, 'arrivals'].sum() - 1\n",
    "minutes_with_waiting = dfxmin.loc[dfxmin.buildup > 0, 'time'].count() - 1\n",
    "\n",
    "print(f\"Customers that waited in line: {cust_that_waited}, minutes with waiting: {minutes_with_waiting}, average customers waiting: {total_ctime/minutes_with_waiting:.2f}, average wait time per customer: {total_ctime/cust_that_waited:.2f} minutes\")\n",
    "\n",
    "\n",
    "output_rate = dfxmin.output.sum() / ((len(dfxmin.output)-1)/60)\n",
    "output_rate6 = dfxmin.loc[(dfxmin.buildup > 0) & (dfxmin.time > pd.to_datetime('2024-02-28 05:00:00')),'output'].sum() / ((len(dfxmin.loc[dfxmin.time > pd.to_datetime('2024-02-28 05:00:00'),'output'])-1)/60)\n",
    "print(f'The average throughput or output rate was {output_rate:.2f} customers per hour , and in the last hour {output_rate6:.2f} .')\n",
    "\n"
   ]
  },
  {
   "cell_type": "code",
   "execution_count": null,
   "metadata": {},
   "outputs": [],
   "source": [
    "x = dfxmin.loc[dfxmin.buildup > 0, 'time']\n",
    "y = dfxmin.loc[dfxmin.buildup > 0, 'buildup']\n",
    "\n",
    "x = dfxmin.loc[(dfxmin.time < pd.to_datetime('2024-02-28 05:00:00')) | (dfxmin.buildup > 0), 'time']\n",
    "y = dfxmin.loc[(dfxmin.time < pd.to_datetime('2024-02-28 05:00:00')) | (dfxmin.buildup > 0), 'buildup']\n",
    "\n",
    "plt.figure(figsize=(12, 6))\n",
    "plt.plot(x, y)\n",
    "\n",
    "time_format = DateFormatter('%H:%M')  \n",
    "plt.gca().xaxis.set_major_formatter(time_format)\n",
    "\n",
    "plt.xlabel('Time')\n",
    "plt.ylabel('Customers in Line')\n",
    "plt.title('Build Up of Customers in Line')\n",
    "plt.show()\n",
    "\n",
    "#dfxmin.to_csv('data/phobuildup.csv', index=False)"
   ]
  },
  {
   "cell_type": "code",
   "execution_count": 41,
   "metadata": {},
   "outputs": [
    {
     "name": "stdout",
     "output_type": "stream",
     "text": [
      "Inventory: 1 patient waiting, flow: 0.1 hours or 6.0 minutes, throughput: 10 patients per hour\n"
     ]
    }
   ],
   "source": [
    "# I = F * T\n",
    "\n",
    "inv1 = 1  #patient waiting\n",
    "flow1 = inv1 / tput1 #hours\n",
    "tput1 = 10  #patients per hour\n",
    "\n",
    "print(f\"Inventory: {inv1} patient waiting, flow: {flow1} hours or {flow1*60} minutes, throughput: {tput1} patients per hour\")"
   ]
  },
  {
   "cell_type": "code",
   "execution_count": 42,
   "metadata": {},
   "outputs": [
    {
     "name": "stdout",
     "output_type": "stream",
     "text": [
      "Inventory: 2.5 patients checking in, flow: 0.25 hours or 15.0 minutes, throughput: 10 patients per hour\n"
     ]
    }
   ],
   "source": [
    "flow2 = 0.25 #hours\n",
    "tput2 = 10  #patients per hour\n",
    "inv2 = flow2 * tput2  #patient waiting\n",
    "\n",
    "print(f\"Inventory: {inv2} patients checking in, flow: {flow2} hours or {flow2*60} minutes, throughput: {tput2} patients per hour\")"
   ]
  },
  {
   "cell_type": "code",
   "execution_count": 43,
   "metadata": {},
   "outputs": [
    {
     "name": "stdout",
     "output_type": "stream",
     "text": [
      "Inventory: 2.5 patients waiting, flow: 0.25 hours or 15.0 minutes, throughput: 10 patients per hour\n"
     ]
    }
   ],
   "source": [
    "flow3 = 0.25 #hours *new time*\n",
    "tput3 = 10  #patients per hour\n",
    "inv3 = flow3 * tput3  #patients waiting\n",
    "\n",
    "print(f\"Inventory: {inv3} patients waiting, flow: {flow3} hours or {flow3*60} minutes, throughput: {tput3} patients per hour\")"
   ]
  },
  {
   "cell_type": "code",
   "execution_count": 46,
   "metadata": {},
   "outputs": [
    {
     "name": "stdout",
     "output_type": "stream",
     "text": [
      "Inventory: 34 patients in treatment, flow: 3.4 hours, throughput: 10 patients per hour\n",
      "For discharge patients, average inventory is 24 patients, flow is 3 hours, throughput is 8 patients per hour\n",
      "For internal ward patients in treatment, average inventory is 6 patients, flow is 3 hours, throughput is 2 patients per hour\n",
      "For internal ward patients waiting, average inventory is 4 patients, flow is 2 hours, throughput is 2 patients per hour\n",
      "For internal ward patients, average inventory is 10 patients, flow is 5 hours, throughput is 2 patients per hour\n"
     ]
    }
   ],
   "source": [
    "flow4it = 3 #hours\n",
    "flow4iw = 2 #hours\n",
    "flow4i = flow4it + flow4iw\n",
    "tput4i = 2  #patients per hour\n",
    "inv4i = flow4i * tput4i  #patient waiting\n",
    "inv4it = flow4it * tput4i  #patients in treatment\n",
    "inv4iw = flow4iw * tput4i  #patients waiting for ward\n",
    "\n",
    "flow4d = 3 #hours\n",
    "tput4d = 8  #patients per hour\n",
    "inv4d = flow4d * tput4d  #patient in treatment\n",
    "\n",
    "inv4 = inv4i + inv4d\n",
    "tput4 = tput4i + tput4d\n",
    "flow4 = (inv4/tput4) #hours\n",
    "#flow4 = (0.8 * 3) + (0.2 * 5)\n",
    "\n",
    "print(f\"Inventory: {inv4} patients in treatment, flow: {flow4} hours, throughput: {tput4} patients per hour\")\n",
    "print(f\"For discharge patients, average inventory is {inv4d} patients, flow is {flow4d} hours, throughput is {tput4d} patients per hour\")\n",
    "print(f\"For internal ward patients in treatment, average inventory is {inv4it} patients, flow is {flow4it} hours, throughput is {tput4i} patients per hour\")\n",
    "print(f\"For internal ward patients waiting, average inventory is {inv4iw} patients, flow is {flow4iw} hours, throughput is {tput4i} patients per hour\")\n",
    "print(f\"For internal ward patients, average inventory is {inv4i} patients, flow is {flow4i} hours, throughput is {tput4i} patients per hour\")\n"
   ]
  },
  {
   "cell_type": "code",
   "execution_count": 47,
   "metadata": {},
   "outputs": [
    {
     "name": "stdout",
     "output_type": "stream",
     "text": [
      "Inventory: 4.0 patients being discharged, flow: 0.5 hours or 30.0 minutes, throughput: 8.0 patients per hour\n"
     ]
    }
   ],
   "source": [
    "flow5 = 0.5  #hours\n",
    "tput5 = (0.8 * 10)  #patients per hour\n",
    "inv5 = flow5 * tput5  #patient waiting\n",
    "\n",
    "print(f\"Inventory: {inv5} patients being discharged, flow: {flow5} hours or {flow5*60} minutes, throughput: {tput5} patients per hour\")"
   ]
  },
  {
   "cell_type": "code",
   "execution_count": 20,
   "metadata": {},
   "outputs": [
    {
     "name": "stdout",
     "output_type": "stream",
     "text": [
      "Inventory: 7.0 patients waiting for transfer, flow: 3.5 hours or 210.0 minutes, throughput: 2.0 patients per hour\n"
     ]
    }
   ],
   "source": [
    "flow5i = 3.5 #hours\n",
    "tput5i = (0.2 * 10)  #patients per hour\n",
    "inv5i = flow5i * tput5i  #patient waiting\n",
    "\n",
    "print(f\"Inventory: {inv5i} patients waiting for transfer, flow: {flow5i} hours or {flow5i*60} minutes, throughput: {tput5i} patients per hour\")"
   ]
  },
  {
   "cell_type": "code",
   "execution_count": 48,
   "metadata": {},
   "outputs": [
    {
     "name": "stdout",
     "output_type": "stream",
     "text": [
      "Total average flow: 4.4 hours or 264.0 minutes, average flow other calc: 4.3999999999999995 hours\n",
      "Discharge flow time: 4.1 hours, internal flow time: 5.6 hours\n",
      "Flow for step 1 is 0.1 hours and for step 3 is 0.25 hours\n"
     ]
    }
   ],
   "source": [
    "discharge = flow1 + .25 + flow3 + 3 + 0.5\n",
    "internal = flow1 + .25 + flow3 + 3 + 2\n",
    "avflow = (0.8 * discharge) + (0.2 * internal)\n",
    "total_avg_flow = flow1 + .25 + flow3 + 3 + (.2 * 2) + (.8 * 0.5)\n",
    "print(f\"Total average flow: {total_avg_flow} hours or {total_avg_flow*60} minutes, average flow other calc: {avflow} hours\")\n",
    "print(f\"Discharge flow time: {discharge} hours, internal flow time: {internal} hours\")\n",
    "print(f\"Flow for step 1 is {flow1} hours and for step 3 is {flow3} hours\")"
   ]
  },
  {
   "cell_type": "code",
   "execution_count": null,
   "metadata": {},
   "outputs": [],
   "source": []
  }
 ],
 "metadata": {
  "kernelspec": {
   "display_name": "base",
   "language": "python",
   "name": "python3"
  },
  "language_info": {
   "codemirror_mode": {
    "name": "ipython",
    "version": 3
   },
   "file_extension": ".py",
   "mimetype": "text/x-python",
   "name": "python",
   "nbconvert_exporter": "python",
   "pygments_lexer": "ipython3",
   "version": "3.11.9"
  }
 },
 "nbformat": 4,
 "nbformat_minor": 2
}
