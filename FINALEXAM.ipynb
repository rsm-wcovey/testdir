{
 "cells": [
  {
   "cell_type": "code",
   "execution_count": 8,
   "metadata": {},
   "outputs": [
    {
     "data": {
      "text/plain": [
       "0.07083250373967886"
      ]
     },
     "execution_count": 8,
     "metadata": {},
     "output_type": "execute_result"
    }
   ],
   "source": [
    "import numpy as np\n",
    "from scipy.stats import norm, binom\n",
    "mmean = 220\n",
    "mstd = 55\n",
    "mvar = mstd**2\n",
    "\n",
    "qmean = 3 * mmean\n",
    "qvar = 3 * mvar\n",
    "qstd = np.sqrt(qvar)\n",
    "\n",
    "tesla = norm(qmean, qstd)\n",
    "\n",
    "1 - tesla.cdf(800)\n"
   ]
  },
  {
   "cell_type": "code",
   "execution_count": 20,
   "metadata": {},
   "outputs": [],
   "source": [
    "dct = {\n",
    "    \"key1\": [1, 2, 3, 4],\n",
    "    \"key2\": [\"one\", \"two\", \"three\", \"four\"]\n",
    "}\n",
    "\n",
    "def foo(d, n):\n",
    "    d[\"key1\"] = [i * n for i in d[\"key1\"]]\n",
    "    return d\n",
    "\n",
    "assert sum(foo(dct, 2)[\"key1\"]) == 20\n"
   ]
  },
  {
   "cell_type": "code",
   "execution_count": null,
   "metadata": {},
   "outputs": [],
   "source": []
  }
 ],
 "metadata": {
  "kernelspec": {
   "display_name": "base",
   "language": "python",
   "name": "python3"
  },
  "language_info": {
   "codemirror_mode": {
    "name": "ipython",
    "version": 3
   },
   "file_extension": ".py",
   "mimetype": "text/x-python",
   "name": "python",
   "nbconvert_exporter": "python",
   "pygments_lexer": "ipython3",
   "version": "3.11.9"
  }
 },
 "nbformat": 4,
 "nbformat_minor": 2
}
