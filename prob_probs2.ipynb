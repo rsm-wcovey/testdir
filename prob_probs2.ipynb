{
 "cells": [
  {
   "cell_type": "code",
   "execution_count": 10,
   "metadata": {},
   "outputs": [
    {
     "name": "stdout",
     "output_type": "stream",
     "text": [
      "(a) The mean and standard deviation of the number of boats constructed are 4.0 and 1.309, respectively.\n",
      "(b) The mean and standard deviation of the monthly cost of constructing the boats are 49200.0 and 6284.675, respectively.\n"
     ]
    }
   ],
   "source": [
    "# 2.16 a & b\n",
    "import numpy as np\n",
    "import pandas as pd\n",
    "\n",
    "boats = pd.read_csv(\"data/sailboats.csv\")\n",
    "boats[\"fixed_cost\"] = 30000\n",
    "boats[\"variable_cost\"] = 4800 * boats[\"nr_sailboats\"]\n",
    "boats[\"total_cost\"] = boats[\"fixed_cost\"] + boats[\"variable_cost\"]\n",
    "\n",
    "boat_mean = boats[\"nr_sailboats\"].mean()\n",
    "boat_std = boats[\"nr_sailboats\"].std()\n",
    "cost_mean = boats[\"total_cost\"].mean()\n",
    "cost_std = boats[\"total_cost\"].std(ddof=1)\n",
    "\n",
    "print(f\"(a) The mean and standard deviation of the number of boats constructed are {boat_mean} and {round(boat_std,3)}, respectively.\\n(b) The mean and standard deviation of the monthly cost of constructing the boats are {cost_mean} and {round(cost_std,3)}, respectively.\")\n"
   ]
  },
  {
   "cell_type": "code",
   "execution_count": 81,
   "metadata": {},
   "outputs": [
    {
     "name": "stdout",
     "output_type": "stream",
     "text": [
      "(c) The new mean and standard deviation of the monthly cost of constructing the boats are 72200.0 and 6284.675, respectively.\n"
     ]
    }
   ],
   "source": [
    "# 2.16 c\n",
    "\n",
    "boats[\"fixed_cost\"] = 53000\n",
    "boats[\"variable_cost\"] = 4800 * boats[\"nr_sailboats\"]\n",
    "boats[\"total_cost\"] = boats[\"fixed_cost\"] + boats[\"variable_cost\"]\n",
    "cost_mean = boats[\"total_cost\"].mean()\n",
    "cost_std = boats[\"total_cost\"].std()\n",
    "\n",
    "print(f\"(c) The new mean and standard deviation of the monthly cost of constructing the boats are {cost_mean} and {round(cost_std,3)}, respectively.\")\n"
   ]
  },
  {
   "cell_type": "code",
   "execution_count": 82,
   "metadata": {},
   "outputs": [
    {
     "name": "stdout",
     "output_type": "stream",
     "text": [
      "(c) The new mean and standard deviation of the monthly cost of constructing the boats are 58000.0 and 9165.151, respectively.\n"
     ]
    }
   ],
   "source": [
    "# 2.16 d\n",
    "\n",
    "boats[\"fixed_cost\"] = 30000\n",
    "boats[\"variable_cost\"] = 7000 * boats[\"nr_sailboats\"]\n",
    "boats[\"total_cost\"] = boats[\"fixed_cost\"] + boats[\"variable_cost\"]\n",
    "cost_mean = boats[\"total_cost\"].mean()\n",
    "cost_std = boats[\"total_cost\"].std()\n",
    "\n",
    "print(f\"(c) The new mean and standard deviation of the monthly cost of constructing the boats are {cost_mean} and {round(cost_std,3)}, respectively.\")"
   ]
  },
  {
   "cell_type": "code",
   "execution_count": 83,
   "metadata": {},
   "outputs": [
    {
     "name": "stdout",
     "output_type": "stream",
     "text": [
      "The mean, variance, and standard deviation of the combined sales revenue are 3081.4, 1266773.4, and 1125.51, respectively.\n"
     ]
    }
   ],
   "source": [
    "# 2.22 \n",
    "umb = pd.read_csv(\"data/umbrella.csv\")\n",
    "umb[\"dep_sales\"] = 17 * umb[\"department\"]\n",
    "umb[\"dis_sales\"] = 9 * umb[\"outlet\"]\n",
    "\n",
    "dep_mean = umb[\"dep_sales\"].mean()\n",
    "dep_std = umb[\"dep_sales\"].std()\n",
    "dis_mean = umb[\"dis_sales\"].mean()\n",
    "dis_std = umb[\"dis_sales\"].std()\n",
    "corr = .7\n",
    "\n",
    "c_mean = dep_mean + dis_mean\n",
    "c_var = dep_std**2 + dis_std**2 + (2*corr*dep_std*dis_std)\n",
    "c_std = np.sqrt(c_var)\n",
    "\n",
    "print(f\"The mean, variance, and standard deviation of the combined sales revenue are {round(c_mean, 3)}, {round(c_var, 3)}, and {round(c_std, 3)}, respectively.\")\n"
   ]
  },
  {
   "cell_type": "code",
   "execution_count": 84,
   "metadata": {},
   "outputs": [
    {
     "name": "stdout",
     "output_type": "stream",
     "text": [
      "(a) The probability of the stock market movement in January and the whole year being the same direction is 0.58.\n"
     ]
    }
   ],
   "source": [
    "#2.26 a\n",
    "\n",
    "pJan = .6\n",
    "pYear = .9\n",
    "jointw = pJan * pYear\n",
    "jointl = (1-pJan) * (1-pYear)\n",
    "disjJ = (pJan * (1-pYear))\n",
    "disjY = ((1-pJan) * pYear)\n",
    "jointt = jointw + jointl\n",
    "\n",
    "print(f\"(a) The probability of the stock market movement in January and the whole year being the same direction is {round(jointt, 3)}.\")\n"
   ]
  },
  {
   "cell_type": "code",
   "execution_count": 88,
   "metadata": {},
   "outputs": [
    {
     "name": "stdout",
     "output_type": "stream",
     "text": [
      "(b) The probability of the stock market moving in the same direction for all 20 years is 0.0000185592. \n",
      "(c) The probability of the stock market moving in the same direction for at least 15 years is 0.09218964285888731. \n",
      "(d) The probability of the stock market moving in the same direction for at least 17 years is 0.010170370115304306.\n"
     ]
    }
   ],
   "source": [
    "# 2.26 b, c, d\n",
    "from scipy.stats import binom\n",
    "\n",
    "prb = binom.pmf(20, 20, jointt)\n",
    "prc = binom.cdf(20, 20, jointt) - binom.cdf(14, 20, jointt)\n",
    "prd = binom.cdf(20, 20, jointt) - binom.cdf(16, 20, jointt)\n",
    "\n",
    "print(f\"(b) The probability of the stock market moving in the same direction for all 20 years is {prb:.10f}. \\n(c) The probability of the stock market moving in the same direction for at least 15 years is {prc}. \\n(d) The probability of the stock market moving in the same direction for at least 17 years is {prd}.\")\n",
    "\n"
   ]
  },
  {
   "cell_type": "code",
   "execution_count": 86,
   "metadata": {},
   "outputs": [
    {
     "name": "stdout",
     "output_type": "stream",
     "text": [
      "(e) The probability of the stock market being up for the year given that it moved up in January is 0.9. \n",
      "The probability of the stock market being up for the year given that it moved down in January is 0.9.\n",
      "\n",
      "I would further want to test the dependence of annual performance on January performance by collecting \n",
      "historic data samples for the two January conditions (up or down) and performing a T-test on the mean \n",
      "annual performance (yield) between the two samples.\n"
     ]
    }
   ],
   "source": [
    "# 2.26 e\n",
    "\n",
    "pYear_given_Jan = jointw / pJan\n",
    "pYear_given_nJan = disjY / (1-pJan)\n",
    "\n",
    "print(f\"(e) The probability of the stock market being up for the year given that it moved up in January is {round(pYear_given_Jan, 3)}. \\nThe probability of the stock market being up for the year given that it moved down in January is {round(pYear_given_nJan, 3)}.\")\n",
    "print(\"\\nI would further want to test the dependence of annual performance on January performance by collecting \\nhistoric data samples for the two January conditions (up or down) and performing a T-test on the mean \\nannual performance (yield) between the two samples.\")"
   ]
  },
  {
   "cell_type": "code",
   "execution_count": 87,
   "metadata": {},
   "outputs": [
    {
     "data": {
      "image/png": "[encoded data removed]",
      "text/plain": [
       "<Figure size 640x480 with 1 Axes>"
      ]
     },
     "metadata": {},
     "output_type": "display_data"
    }
   ],
   "source": [
    "import matplotlib.pyplot as plt\n",
    "\n",
    "n = 20\n",
    "p = jointt\n",
    "x = np.arange(0, 21)\n",
    "y = binom.pmf(x, n, p)\n",
    "plt.bar(x, y)\n",
    "plt.show()"
   ]
  },
  {
   "cell_type": "code",
   "execution_count": null,
   "metadata": {},
   "outputs": [],
   "source": [
    "# AI Footnote: I used chatGPT to assist with this. See the chat link below:\n",
    "https://chatgpt.com/share/e/f15b6341-8af6-4649-b54f-5b47a7ad44b1"
   ]
  }
 ],
 "metadata": {
  "kernelspec": {
   "display_name": "base",
   "language": "python",
   "name": "python3"
  },
  "language_info": {
   "codemirror_mode": {
    "name": "ipython",
    "version": 3
   },
   "file_extension": ".py",
   "mimetype": "text/x-python",
   "name": "python",
   "nbconvert_exporter": "python",
   "pygments_lexer": "ipython3",
   "version": "3.11.9"
  }
 },
 "nbformat": 4,
 "nbformat_minor": 2
}
