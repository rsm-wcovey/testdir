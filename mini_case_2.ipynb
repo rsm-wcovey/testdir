{
 "cells": [
  {
   "cell_type": "markdown",
   "id": "2355f520",
   "metadata": {},
   "source": [
    "Historically, book clubs offered their readers continuity and negative option programs that were based on an extended contractual relationship between the club and its clients. Under a continuity program, a reader signs up for an offer of several books for a few dollars each (plus shipping and handling), and an agreement to receive a shipment of one or two books each month thereafter.  This is a \"low maintenance\" arrangement since a single contract guarantees a sequence of sales. It is most common for children's books, where parents are willing to delegate the rights to make a selection to the book club, and in fact much of the club's prestige depends on the quality of its selection. In a \"negative option\" program, readers get to choose which and how many additional books they would receive, but the default option is that the club's selection will be delivered to them each month. The club informs them of the monthly selection and they are specifically required to mark \"no\" by a deadline date on their order form if they do not want to receive it. Negative option programs sometimes result in customer dissatisfaction and always give rise to significant mailing and processing costs.\n",
    "\n",
    "In an attempt to reverse these trends and combat the success of superstores and online retailers, some firms are beginning to offer books on a positive option basis, but only to selected segments of their customer lists that are deemed receptive to specific offers. Thus, book clubs are beginning to use customer analytics to work smarter rather than expand the coverage of their mailings. They target individual customers based on data in their databases to select only customers who are likely to be interested in their offers, and they differentiate their offers across their customer population."
   ]
  },
  {
   "cell_type": "markdown",
   "id": "05900c03",
   "metadata": {},
   "source": [
    "## The \"Bookbinders Book Club\" - BBB\n",
    "\n",
    "The BBB Club was established for the purpose of selling specialty books through direct marketing involving a variety of channels, including media advertising (TV, magazines, newspapers) and mailing. BBB is strictly a distributor and does not publish any of the books it sells. In anticipation of using customer analytics, BBB made a strategic decision right from the start to build and maintain a detailed database about its club members containing all the relevant information about their customers. Readers fill out an insert that is returned to BBB which then enters the customer into the database. By now the company has built a database of 500,000 readers through advertising in specialty magazines.\n",
    "\n",
    "Initially, and as long as the customers' database was still relatively small, BBB contacted all its club members with each appeal to purchase books. Every other month, the company sent out solo mailings for its latest offering (that is, each offer is for one book). BBB's sales have grown steadily, but profits began falling when the database got larger and when the company diversified its book selection and increased the number of offers sent to customers. The falling profits have led BBB to use to customer analytics in order improve its mailing yields and stay profitable. BBB's management has decided to base customer analytics on the following principles:\n",
    "\n",
    "*\tNew members would be acquired by advertising in specialty magazines, newspapers, TV.\n",
    "*\tExisting club members would be contacted by direct mail and telemarketing.\n",
    "*\tThe mailing / telemarketing list would be chosen using customer analytics.\n",
    "*\tCustomer response, whether purchase or no purchase, will be recorded and maintained in the database, to be used in future targeting of audiences for promotion (in fact, the management considers this database as the main asset of the company).\n",
    "*\tEvery new book would be offered to the club members first - prior to advertising it in the media.\n",
    "*\tThe price in media advertising would always be higher than the one in the direct mailing/telemarketing offer.\n",
    "*\tLive market tests, involving a random sample of customers from the database, would be conducted for new book editions in order to analyze customers' response and calibrate a response model for the current book offering. The response model's results will then be used to \"score\" customers in the database and select customers for the mailing campaign.\n",
    "\n",
    "The idea is to run simultaneous targeted campaigns where each target audience will receive appropriate solo mailings.\n",
    "\n",
    "Parallel to selling books, BBB management has also been taking advantage of its database to offer its members non-book products. Based on the success that the company had in the past with the non-book operation, it plans to continue this operation and even expand it in the future."
   ]
  },
  {
   "cell_type": "markdown",
   "id": "0a933403",
   "metadata": {},
   "source": [
    "## The Decision Process\n",
    "\n",
    "Two core decisions are usually supported by customer analytics: targeting and prediction. Targeting is concerned with selecting the audience that is most receptive to the current offering. Prediction is concerned with forecasting the number of orders generated. The decision process usually consists of several steps:\n",
    "\n",
    "*\tTesting\n",
    "*\tResponse modeling\n",
    "*\tScoring\n",
    "*\tDecision making\n",
    "\n",
    "The process starts with a TEST mailing, where a sample of customers are selected randomly from the database and mailed the new offer.\n",
    "\n",
    "The responses to the offer are then analyzed along with customers' past purchase history, demographics, and other relevant data to determine how the response varies as a function of the customers' attributes and history. Purchase history includes variables such as: how recently they have purchased (\"Recency\"), how often they have purchased (\"Frequency\"), and how much money they have spent on buying the company's products in the past (\"Monetary\") (the so-called RFM variables). Other pieces of purchase history are the number of books bought in different categories, and whether or not a customer has bought specific related products in the past. The resulting model is referred to as a Response model.\n",
    "\n",
    "The response model calibrated on the TEST results is then used to assign a \"score\" to each customer in the rest of the list (i.e., for customers who were not part of the TEST mailing), reflecting the customers' \"likelihood\" of purchasing the current product offering.\n",
    "\n",
    "Finally, customers are selected for the promotion based on their expected likelihood of purchase, the revenue generated by a sale, and the cost of mailing the offer. The final mailing is referred to as the ROLL mailing."
   ]
  },
  {
   "cell_type": "markdown",
   "id": "6371d06a",
   "metadata": {},
   "source": [
    "## The Data\n",
    "\n",
    "Information about 50,000 BookBinders Book Club's customers' purchasing history and demographics is available in data/bbb.pkl in the project folder available on GitHub.\n",
    "\n",
    "Below the list of variables in the database:\n"
   ]
  },
  {
   "cell_type": "markdown",
   "id": "d9d5f0e2",
   "metadata": {
    "name": "unnamed-chunk-1"
   },
   "source": [
    "<table class=\"table table-condensed table-hover table\" style=\"width:100%; color: black; margin-left: auto; margin-right: auto;\">\n",
    " <thead>\n",
    "  <tr>\n",
    "   <th style=\"text-align:left;\"> Variable </th>\n",
    "   <th style=\"text-align:left;\"> Description </th>\n",
    "  </tr>\n",
    " </thead>\n",
    "<tbody>\n",
    "  <tr>\n",
    "   <td style=\"text-align:left;\"> acctnum </td>\n",
    "   <td style=\"text-align:left;\"> Customer account number </td>\n",
    "  </tr>\n",
    "  <tr>\n",
    "   <td style=\"text-align:left;\"> gender </td>\n",
    "   <td style=\"text-align:left;\"> Customer gender identity (M = male, F = female, O = Other or unknown) </td>\n",
    "  </tr>\n",
    "  <tr>\n",
    "   <td style=\"text-align:left;\"> state </td>\n",
    "   <td style=\"text-align:left;\"> State where customer lives (2-character abbreviation) </td>\n",
    "  </tr>\n",
    "  <tr>\n",
    "   <td style=\"text-align:left;\"> zip </td>\n",
    "   <td style=\"text-align:left;\"> ZIP code (5-digit) </td>\n",
    "  </tr>\n",
    "  <tr>\n",
    "   <td style=\"text-align:left;\"> zip3 </td>\n",
    "   <td style=\"text-align:left;\"> First 3 digits of ZIP code </td>\n",
    "  </tr>\n",
    "  <tr>\n",
    "   <td style=\"text-align:left;\"> first </td>\n",
    "   <td style=\"text-align:left;\"> Number of months since first purchase </td>\n",
    "  </tr>\n",
    "  <tr>\n",
    "   <td style=\"text-align:left;\"> last </td>\n",
    "   <td style=\"text-align:left;\"> Number of months since most recent purchase </td>\n",
    "  </tr>\n",
    "  <tr>\n",
    "   <td style=\"text-align:left;\"> book </td>\n",
    "   <td style=\"text-align:left;\"> Total dollars spent on books </td>\n",
    "  </tr>\n",
    "  <tr>\n",
    "   <td style=\"text-align:left;\"> nonbook </td>\n",
    "   <td style=\"text-align:left;\"> Total dollars spent on non-book products </td>\n",
    "  </tr>\n",
    "  <tr>\n",
    "   <td style=\"text-align:left;\"> total </td>\n",
    "   <td style=\"text-align:left;\"> Total dollars spent </td>\n",
    "  </tr>\n",
    "  <tr>\n",
    "   <td style=\"text-align:left;\"> purch </td>\n",
    "   <td style=\"text-align:left;\"> Total number of books purchased </td>\n",
    "  </tr>\n",
    "  <tr>\n",
    "   <td style=\"text-align:left;\"> child </td>\n",
    "   <td style=\"text-align:left;\"> Total number of childrens books purchased </td>\n",
    "  </tr>\n",
    "  <tr>\n",
    "   <td style=\"text-align:left;\"> youth </td>\n",
    "   <td style=\"text-align:left;\"> Total number of youth books purchased </td>\n",
    "  </tr>\n",
    "  <tr>\n",
    "   <td style=\"text-align:left;\"> cook </td>\n",
    "   <td style=\"text-align:left;\"> Total number of cook books purchased </td>\n",
    "  </tr>\n",
    "  <tr>\n",
    "   <td style=\"text-align:left;\"> do_it </td>\n",
    "   <td style=\"text-align:left;\"> Total number of do-it-yourself books purchased </td>\n",
    "  </tr>\n",
    "  <tr>\n",
    "   <td style=\"text-align:left;\"> reference </td>\n",
    "   <td style=\"text-align:left;\"> Total number of reference books purchased </td>\n",
    "  </tr>\n",
    "  <tr>\n",
    "   <td style=\"text-align:left;\"> art </td>\n",
    "   <td style=\"text-align:left;\"> Total number of art books purchased </td>\n",
    "  </tr>\n",
    "  <tr>\n",
    "   <td style=\"text-align:left;\"> geog </td>\n",
    "   <td style=\"text-align:left;\"> Total number of geography books purchased </td>\n",
    "  </tr>\n",
    "  <tr>\n",
    "   <td style=\"text-align:left;\"> buyer </td>\n",
    "   <td style=\"text-align:left;\"> Did the customer buy The Art History of Florence?  (yes, no) </td>\n",
    "  </tr>\n",
    "  <tr>\n",
    "   <td style=\"text-align:left;\"> training </td>\n",
    "   <td style=\"text-align:left;\"> Dummy variable that splits the dataset into a training ('1') and validation ('0') dataset. </td>\n",
    "  </tr>\n",
    "</tbody>\n",
    "</table>"
   ]
  },
  {
   "cell_type": "markdown",
   "id": "5b608215",
   "metadata": {},
   "source": [
    "## Your Task\n",
    "\n",
    "Your task is to 'get to know' the BBB customer data by conducting descriptive analysis on the Python dictionary. Do **not** load any additional Python libraries. This case should be completed using only Python's builtin libraries and the `pickle` library."
   ]
  },
  {
   "cell_type": "markdown",
   "id": "57035e80",
   "metadata": {},
   "source": [
    "## For local analysis\n",
    "\n",
    "If you prefer to develop your code in VS Code in a Jupyter notebook, you can download <a href=\"cases/mini_case_2.ipynb\">mini_case_2.ipynb</a>. This notebook file has the same text and code snippets that you see on this webpage. After creating the required code, copy-and-paste it into the code-inputs on this webpage for testing. To complete all exercises below, you will also need data file: <a href=\"data/bbb_dct.pkl\">bbb_dct.pkl</a>.\n"
   ]
  },
  {
   "cell_type": "markdown",
   "id": "b5e5d0a9",
   "metadata": {},
   "source": [
    "## Questions"
   ]
  },
  {
   "cell_type": "code",
   "execution_count": 19,
   "id": "bfa83dd9",
   "metadata": {
    "name": "unnamed-chunk-2"
   },
   "outputs": [
    {
     "name": "stdout",
     "output_type": "stream",
     "text": [
      "<class 'list'>\n",
      "['acctnum', 'gender', 'state', 'zip', 'zip3', 'first', 'last', 'book', 'nonbook', 'total', 'purch', 'child', 'youth', 'cook', 'do_it', 'reference', 'art', 'geog', 'buyer', 'training']\n"
     ]
    }
   ],
   "source": [
    "# Question 2.01: The folder `data_mgta403/` contains a file called\n",
    "# `bbb_dct.pkl` with the data described above. Load the dictionary using\n",
    "# `pickle` and assign the dictionary to a new variable `bbb_dct`. Also, create\n",
    "# a new variable `bbb_keys` that contains a list with the names of all keys in\n",
    "# `bbb_dct`.\n",
    "\n",
    "import pickle\n",
    "with open(\"data/bbb_dct.pkl\", \"rb\") as file:\n",
    "    bbb_dct = pickle.load(file)\n",
    "    \n",
    "bbb_keys = list(bbb_dct.keys()) # create a list of dictionary keys \n",
    "\n",
    "print(type(bbb_keys)) # should return a list\n",
    "print(bbb_keys)"
   ]
  },
  {
   "cell_type": "code",
   "execution_count": 3,
   "id": "a68c65d6",
   "metadata": {
    "name": "unnamed-chunk-3"
   },
   "outputs": [
    {
     "name": "stdout",
     "output_type": "stream",
     "text": [
      "29953\n"
     ]
    }
   ],
   "source": [
    "# Question 2.02: How many of BookBinder's customers identify as female? Assign\n",
    "# your result to a new variable `count_female`.\n",
    "\n",
    "# what levels does the \"gender\" variable have?\n",
    "\n",
    "# calculate the number of customers that are female\n",
    "count_female = bbb_dct[\"gender\"].count(\"F\")\n",
    "print(count_female)"
   ]
  },
  {
   "cell_type": "code",
   "execution_count": 20,
   "id": "2236c1bc",
   "metadata": {
    "name": "unnamed-chunk-4"
   },
   "outputs": [
    {
     "data": {
      "text/plain": [
       "0.33396"
      ]
     },
     "execution_count": 20,
     "metadata": {},
     "output_type": "execute_result"
    }
   ],
   "source": [
    "# Question 2.03: What proportion of BookBinder's customers identify as male?\n",
    "# Assign your result to a new variable `p_gender` and ensure that\n",
    "# `p_gender[\"M\"]` returns the value you want to submit as your answer.\n",
    "\n",
    "# what levels does the \"gender\" variable have?\n",
    "\n",
    "# calculate the total number of observations \n",
    "nobs = len(bbb_dct[\"gender\"])\n",
    "\n",
    "# calculate the number of observations per gender level\n",
    "# calculate the proportion of observations per gender level\n",
    "\n",
    "glevels = set(bbb_dct[\"gender\"])\n",
    "p_gender = {}\n",
    "for i in glevels:\n",
    "    p_gender[i] = bbb_dct[\"gender\"].count(i) / nobs\n",
    "\n",
    "\n",
    "# check type and length \n",
    "type(p_gender)  # should return dict\n",
    "len(p_gender)   # should return 3\n",
    "\n",
    "p_gender[\"M\"]"
   ]
  },
  {
   "cell_type": "code",
   "execution_count": 21,
   "id": "2c4d5b85",
   "metadata": {
    "name": "unnamed-chunk-5"
   },
   "outputs": [
    {
     "name": "stdout",
     "output_type": "stream",
     "text": [
      "{'MA': 4252, 'NY': 16530, 'DC': 339, 'RI': 402, 'VT': 211, 'PA': 8718, 'AE': 5, 'ME': 343, 'NH': 665, 'VI': 45, 'NJ': 11068, 'DE': 711, 'VA': 27, 'MD': 4172, 'CT': 2512}\n"
     ]
    },
    {
     "data": {
      "text/plain": [
       "['NY', 'NJ', 'PA']"
      ]
     },
     "execution_count": 21,
     "metadata": {},
     "output_type": "execute_result"
    }
   ],
   "source": [
    "# Question 2.04: Which three states have the most customers? Create a\n",
    "# dictionary and assign it to a variable `state_ncust`. The unique values of\n",
    "# the `state` variable should be the dictionary keys and the dictionary values\n",
    "# should be the total number of customers. Determine the three states with the\n",
    "# most customers and create a list (`big3`) with **only** the abbreviated state\n",
    "# names in order from biggest to smallest.\n",
    "\n",
    "# count number of customers per state\n",
    "\n",
    "rows = len(bbb_dct[\"acctnum\"])\n",
    "accts = len(set(bbb_dct[\"acctnum\"]))\n",
    "if rows != accts:\n",
    "    print(\"dupes!\")\n",
    "\n",
    "state_ncust = {}\n",
    "for i in set(bbb_dct[\"state\"]):\n",
    "    state_ncust[i] = bbb_dct[\"state\"].count(i)\n",
    "\n",
    "type(state_ncust) # should return dict\n",
    "len(state_ncust.keys()) # should return 15\n",
    "print(state_ncust)\n",
    "\n",
    "sort_statecust = sorted(state_ncust.items(), key=lambda item: item [1], reverse=True)\n",
    "\n",
    "# Create a list with the top3 states in order\n",
    "big3 = [item[0] for item in sort_statecust[:3]]\n",
    "\n",
    "type(big3) # should return list\n",
    "len(big3) # should return 3\n",
    "\n",
    "big3\n"
   ]
  },
  {
   "cell_type": "code",
   "execution_count": 22,
   "id": "7bd5f229",
   "metadata": {
    "name": "unnamed-chunk-6"
   },
   "outputs": [
    {
     "data": {
      "text/plain": [
       "{'last': [12.35816, 8.153090878447168],\n",
       " 'total': [208.31832, 101.35725932688773],\n",
       " 'purch': [3.89022, 3.476269558103933]}"
      ]
     },
     "execution_count": 22,
     "metadata": {},
     "output_type": "execute_result"
    }
   ],
   "source": [
    "# Question 2.05: Create a dictionary with the mean and sample standard\n",
    "# deviation for the `last`, `total`, and `purch` variables. Assign the\n",
    "# dictionary to a new variable `bbb_ms`. The dictionary should have length 3\n",
    "# and the keys should be `last`, `total`, and `purch`. Each dictionary value\n",
    "# should be list with the mean and standard deviation in that order. Since you\n",
    "# will calculate mean and standard deviation multiple times, please create a\n",
    "# function called `mean` and a function called `std` that you can call to do\n",
    "# the required work.\n",
    "\n",
    "# define function 'mean'\n",
    "def mean(lname):\n",
    "    result = sum(lname) / len(lname)\n",
    "    return result\n",
    "\n",
    "# define function 'std'\n",
    "def std(lname):\n",
    "    var = 0\n",
    "    for i in lname:\n",
    "        var += (i - mean(lname))**2\n",
    "    var = var / (len(lname) - 1)\n",
    "    return var**0.5\n",
    "\n",
    "# call mean and std on [\"last\", \"total\", \"purch\"]\n",
    "bbb_ms = {}\n",
    "for n in [\"last\",\"total\",\"purch\"]:\n",
    "    bbb_ms[n] = [mean(bbb_dct[n]), std(bbb_dct[n])]\n",
    "\n",
    "\n",
    "type(bbb_ms)  # should return dict\n",
    "len(bbb_ms)   # should return 3\n",
    "type(bbb_ms[\"last\"])  # should return list\n",
    "len(bbb_ms[\"last\"])  # should return 2\n",
    "\n",
    "bbb_ms"
   ]
  },
  {
   "cell_type": "code",
   "execution_count": 15,
   "id": "d2b0ac7f",
   "metadata": {
    "name": "unnamed-chunk-7"
   },
   "outputs": [
    {
     "data": {
      "text/plain": [
       "0.15743588259090208"
      ]
     },
     "execution_count": 15,
     "metadata": {},
     "output_type": "execute_result"
    }
   ],
   "source": [
    "# Question 2.06: What is the (pearson) correlation between customers' total\n",
    "# spending on books (i.e., the `book` variable) and total spending on non-book\n",
    "# products (i.e., the `nonbook` variable)? Assign the correlation to a variable\n",
    "# called `bbb_corr`. Double check that this variable is of type `float`. Create\n",
    "# a function called `cov` to calculate the covariance between the two variables\n",
    "# and a function called `cor` that uses the `cov` function and standardizes the\n",
    "# value into a correlation coefficient.\n",
    "\n",
    "# used Copilot for this one\n",
    "# define function 'cov'\n",
    "# define a function 'cov' that produces the covariance between two lists\n",
    "def cov(x, y):\n",
    "    x_mean = mean(x)\n",
    "    y_mean = mean(y)\n",
    "    cov = 0\n",
    "    for i in range(len(x)):\n",
    "        cov += (x[i] - x_mean) * (y[i] - y_mean)\n",
    "    return cov / (len(x)-1)\n",
    "\n",
    "# define a function 'cor' that produces the correlation coefficient between two lists using the 'cov' function\n",
    "def cor(x, y):\n",
    "    return cov(x, y) / (std(x) * std(y))\n",
    "\n",
    "# define function 'cor'\n",
    "\n",
    "cov([1, 2, 3, 4], [2, 3, 4, 1])  # should return the covariance mentioned in the hint\n",
    "cor([1, 2, 3, 4], [2, 3, 4, 1])  # should return the correlation mentioned in the hint\n",
    "\n",
    "# calculate correlation between 'book' and 'nonbook'\n",
    "bbb_corr = cor(bbb_dct[\"book\"], bbb_dct[\"nonbook\"])\n",
    "\n",
    "type(bbb_corr)  # should be of type float\n",
    "bbb_corr"
   ]
  },
  {
   "cell_type": "code",
   "execution_count": 23,
   "id": "5002d0cb",
   "metadata": {
    "name": "unnamed-chunk-8"
   },
   "outputs": [
    {
     "name": "stdout",
     "output_type": "stream",
     "text": [
      "[('cook', 46830), ('child', 42723), ('geog', 27348), ('do_it', 23153), ('youth', 19549), ('art', 19296), ('reference', 15612)]\n"
     ]
    },
    {
     "data": {
      "text/plain": [
       "{'reference': 15612, 'cook': 46830}"
      ]
     },
     "execution_count": 23,
     "metadata": {},
     "output_type": "execute_result"
    }
   ],
   "source": [
    "# Question 2.07: BBB sells books in 7 main categories. In which category does\n",
    "# BBB sell the most (least) books? Create a dictionary `bbb_books` with the\n",
    "# total number of books sold in each category. Next create a dictionary\n",
    "# `bbb_minmax` that uses the category names of the most and least selling books\n",
    "# categories as keys and has the corresponding number of books sold as the\n",
    "# dictionary values.\n",
    "\n",
    "bbb_books = {}\n",
    "for n in bbb_keys[11:18]:\n",
    "    bbb_books[n] = round(sum(bbb_dct[n]))\n",
    "\n",
    "sort_books = sorted(bbb_books.items(), key=lambda item: item [1], reverse=True)\n",
    "\n",
    "#min_books = \n",
    "#max_books = \n",
    "\n",
    "bbb_minmax = {\n",
    "    sort_books[-1][0]: sort_books[-1][1],\n",
    "    sort_books[0][0]: sort_books[0][1]    \n",
    "}\n",
    "print(sort_books)\n",
    "type(bbb_books)   # should return dict\n",
    "len(bbb_books)    # should return 7\n",
    "list(bbb_minmax.keys())  # should return a list with the most and least sold book types\n",
    "\n",
    "bbb_minmax"
   ]
  },
  {
   "cell_type": "code",
   "execution_count": 24,
   "id": "03855661",
   "metadata": {
    "name": "unnamed-chunk-9"
   },
   "outputs": [
    {
     "data": {
      "image/png": "[encoded data removed]",
      "text/plain": [
       "<Figure size 640x480 with 1 Axes>"
      ]
     },
     "metadata": {},
     "output_type": "display_data"
    }
   ],
   "source": [
    "# Question 2.08: What is the mean for the \"book\" variable (i.e., $ spent on\n",
    "# books) for each gender identify? Create a dictionary (`bbb_mean_books`) that\n",
    "# uses the genders as the keys and the average of the `book` variable for a\n",
    "# gender as the value. Optional: Use the `seaborn` library to show the means as\n",
    "# a barplot.\n",
    "\n",
    "# define 'mean_gender' function\n",
    "def mean_gender(gname):\n",
    "    total = 0\n",
    "    for i in range(len(bbb_dct[\"gender\"])):\n",
    "        if bbb_dct[\"gender\"][i] == gname: \n",
    "            total += bbb_dct[\"book\"][i]\n",
    "    return total / bbb_dct[\"gender\"].count(gname)\n",
    "\n",
    "bbb_mean_books = {g: mean_gender(g) for g in glevels}\n",
    "\n",
    "type(bbb_mean_books)  # should return dict\n",
    "len(bbb_mean_books)   # should return 3\n",
    "\n",
    "bbb_mean_books\n",
    "\n",
    "# optional: Plot the means in a barplot\n",
    "import seaborn as sns\n",
    "import matplotlib.pyplot as plt\n",
    "\n",
    "#used Copilot for this one\n",
    "#create a bar plot of the keys and value pairs in the dictionary 'bbb_mean_books' with functions from the plt library\n",
    "sns.barplot(x=list(bbb_mean_books.keys()), y=list(bbb_mean_books.values()))\n",
    "# show plot\n",
    "plt.show()"
   ]
  },
  {
   "cell_type": "code",
   "execution_count": 10,
   "id": "78d5086b",
   "metadata": {
    "name": "unnamed-chunk-10"
   },
   "outputs": [
    {
     "data": {
      "text/plain": [
       "{'O': 0.07853090474768587, 'F': 0.07097786532233832, 'M': 0.1277398490837226}"
      ]
     },
     "execution_count": 10,
     "metadata": {},
     "output_type": "execute_result"
    }
   ],
   "source": [
    "# Question 2.09: What proportion of male/female/other customers bought _The Art\n",
    "# History of Florence_? Return a dictionary `bbb_ahf_buy` with the required\n",
    "# information. Double check that the dictionary has length 3 and contains the\n",
    "# numbers that capture the conditional probabilities of buying **given the\n",
    "# gender identity of a customer**.\n",
    "\n",
    "# define 'prop_gender' function\n",
    "def prop_gender(gname):\n",
    "    total = 0\n",
    "    for i in range(len(bbb_dct[\"gender\"])):\n",
    "        if bbb_dct[\"gender\"][i] == gname and bbb_dct[\"buyer\"][i] == \"yes\": \n",
    "            total += 1\n",
    "    return total / bbb_dct[\"gender\"].count(gname)\n",
    "\n",
    "bbb_ahf_buy = {g: prop_gender(g) for g in glevels}\n",
    "\n",
    "type(bbb_ahf_buy)  # should return dict\n",
    "len(bbb_ahf_buy)   # should return 3\n",
    "\n",
    "bbb_ahf_buy"
   ]
  },
  {
   "cell_type": "code",
   "execution_count": 31,
   "id": "3e751c12",
   "metadata": {
    "name": "unnamed-chunk-11"
   },
   "outputs": [
    {
     "name": "stdout",
     "output_type": "stream",
     "text": [
      "0\n"
     ]
    }
   ],
   "source": [
    "# Question 2.10: Determine the minimum and maximum number of months between a\n",
    "# customers' first and last (i.e., most recent) purchase. Create a new entry in\n",
    "# the `bbb_dct` dictionary with key `mdiff` that captures the number of months\n",
    "# between the `first` and `last` purchase for each customer. Then, calculate\n",
    "# the minimum and maximum of this new variable. Return a dictionary `bbb_mdiff`\n",
    "# with the required information. Double check that the dictionary has length 3\n",
    "# and that the keys for the new dictionary are `min`, `max`, and `mean`.\n",
    "\n",
    "# adding to the bbb_dct dictionary\n",
    "\n",
    "bbb_dct[\"mdiff\"] = [bbb_dct[\"first\"][i] - bbb_dct[\"last\"][i] for i in range(len(bbb_dct[\"first\"]))]\n",
    "\n",
    "bbb_mdiff = {\n",
    "    \"min\": min(bbb_dct[\"mdiff\"]),\n",
    "    \"max\": max(bbb_dct[\"mdiff\"]),\n",
    "    \"mean\": mean(bbb_dct[\"mdiff\"])\n",
    "    }\n",
    "\n",
    "#type(bbb_mdiff)  # should return dictionary\n",
    "#len(bbb_mdiff)   # should return 3\n",
    "\n",
    "#bbb_mdiff\n",
    "\n",
    "count = 0\n",
    "for i in range(len(bbb_dct[\"purch\"])):\n",
    "    if bbb_dct[\"mdiff\"][i] != 0 and bbb_dct[\"purch\"][i] <= 1:\n",
    "        count +=1\n",
    "\n",
    "print(count)\n",
    "\n",
    "\n"
   ]
  },
  {
   "cell_type": "code",
   "execution_count": 12,
   "id": "82ab5631",
   "metadata": {
    "name": "unnamed-chunk-12"
   },
   "outputs": [
    {
     "data": {
      "text/plain": [
       "0.10315366972477064"
      ]
     },
     "execution_count": 12,
     "metadata": {},
     "output_type": "execute_result"
    }
   ],
   "source": [
    "# Question 2.11: What proportion of repeat customers (i.e., those with two or\n",
    "# more total purchases) bought _The Art History of Florence_? Return a `float`.\n",
    "repcust = 0\n",
    "repAHF = 0\n",
    "for i in range(len(bbb_dct[\"first\"])):\n",
    "    if bbb_dct[\"mdiff\"][i] > 0:\n",
    "        repcust += 1\n",
    "        if bbb_dct[\"buyer\"][i] == \"yes\":\n",
    "            repAHF += 1\n",
    "bbb_prep = repAHF / repcust\n",
    "\n",
    "type(bbb_prep)  # should return a float\n",
    "\n",
    "bbb_prep"
   ]
  },
  {
   "cell_type": "code",
   "execution_count": 13,
   "id": "0e24ae63",
   "metadata": {
    "name": "unnamed-chunk-13"
   },
   "outputs": [],
   "source": [
    "\n",
    "# Question 2.12: If you used Code Interpreter in ChatGPT+, please provide the link to the chat session you used here. You can find the link by clicking on the 'Share' button in the upper right corner of the ChatGPT+ window as shown in the screenshot below. If you used another AI-tool, please provide your prompt and the URL for the tool.\n"
   ]
  },
  {
   "cell_type": "markdown",
   "id": "34f85a90",
   "metadata": {},
   "source": [
    "<div style=\"text-align:center;\">\n",
    "  <img src=\"images/ebike-trails.png\" height=\"500px\" />\n",
    "</div>\n"
   ]
  },
  {
   "cell_type": "code",
   "execution_count": 14,
   "id": "76c6fb07",
   "metadata": {
    "lines_to_next_cell": 0,
    "name": "unnamed-chunk-14"
   },
   "outputs": [],
   "source": [
    "# Question 2.13: Please write a short reflection on what Generative AI-tools were and were not useful for when you worked on this case. 3-4 lines of text should be sufficient.\n",
    "# I used both ChatGPT and Copilot for this case. Similar to the previous case, I didn't love that Copilot showed me answers before I had a chance to think through them myself, so I had it turned off for most of the case. There were however a few instances where I got stuck and turned it on, and it was quite useful to demonstrate what I had been missing. ChatGPT was helpful again for learning and/or refreshing my memory on mathematical concepts and how to achieve certain actions with different python objects."
   ]
  },
  {
   "cell_type": "markdown",
   "id": "b0c5706d",
   "metadata": {},
   "source": [
    "\n",
    "\n"
   ]
  }
 ],
 "metadata": {
  "jupytext": {
   "cell_metadata_filter": "name,-all"
  },
  "kernelspec": {
   "display_name": "Python 3 (ipykernel)",
   "language": "python",
   "name": "python3"
  },
  "language_info": {
   "codemirror_mode": {
    "name": "ipython",
    "version": 3
   },
   "file_extension": ".py",
   "mimetype": "text/x-python",
   "name": "python",
   "nbconvert_exporter": "python",
   "pygments_lexer": "ipython3",
   "version": "3.11.9"
  }
 },
 "nbformat": 4,
 "nbformat_minor": 5
}
