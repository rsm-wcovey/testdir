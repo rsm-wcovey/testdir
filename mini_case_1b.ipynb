{
 "cells": [
  {
   "cell_type": "markdown",
   "id": "ad9b4feb",
   "metadata": {},
   "source": [
    "\n",
    "## What we're trying to do\n",
    "\n",
    "In almost every course you take throughout this program, you'll encounter optimization. Trying to find the variables that best maximize or minimize a particular problem will appear in many forms. Sometimes you'll want to figure out what price a firm should charge to maximize profits or what coefficients in a statistical model minimize prediction error. Often times the solution to the problem will be very difficult to see initially and maybe even too complicated to compute for all possible values. But before we start diving into complex problems, let's examine a simple example to illustrate these ideas."
   ]
  },
  {
   "cell_type": "markdown",
   "id": "d8e8c07c",
   "metadata": {},
   "source": [
    "## For local analysis\n",
    "\n",
    "If you prefer to develop your code in a Jupyter notebook, you can download <a href=\"cases/mini_case_1.ipynb\">mini_case_1.ipynb</a>. This notebook file has the same text and code chunks that you see on this webpage. After creating the required code, copy-and-paste it into the code-inputs on this webpage for testing."
   ]
  },
  {
   "cell_type": "markdown",
   "id": "28a048f8",
   "metadata": {},
   "source": [
    "## A simple starting point\n",
    "\n",
    "Suppose we want to find the value of $x$ that minimizes the following function: $f(x) = x^2$ where $x \\in \\mathbb{R}$.\n"
   ]
  },
  {
   "cell_type": "code",
   "execution_count": 57,
   "id": "889bbf01",
   "metadata": {
    "name": "unnamed-chunk-1"
   },
   "outputs": [
    {
     "data": {
      "text/plain": [
       "array([1, 4, 9])"
      ]
     },
     "execution_count": 57,
     "metadata": {},
     "output_type": "execute_result"
    }
   ],
   "source": [
    "# Question 1.01: For your first task, define a Python function that accepts a\n",
    "# vector of numbers and returns that vector of numbers squared. Call this\n",
    "# function `square`.\n",
    "\n",
    "import numpy as np\n",
    "\n",
    "def square(x):\n",
    "    if isinstance(x, (int, float, np.ndarray)):\n",
    "        return x**2\n",
    "    elif isinstance(x, (list, tuple)):\n",
    "        return [i**2 for i in x]\n",
    "    else:\n",
    "        return 'Invalid input'\n",
    "   \n",
    "\n",
    "square(4)  # should print 16\n",
    "square(np.array([1, 2, 3]))  # should print [1, 4, 9]"
   ]
  },
  {
   "cell_type": "markdown",
   "id": "c9fd041f",
   "metadata": {},
   "source": [
    "Next, let's visualize the function that we're analyzing in this exercise using matplotlib in Python.\n"
   ]
  },
  {
   "cell_type": "code",
   "execution_count": 55,
   "id": "72e91482",
   "metadata": {
    "name": "unnamed-chunk-2"
   },
   "outputs": [
    {
     "data": {
      "image/png": "[encoded data removed]",
      "text/plain": [
       "<Figure size 640x480 with 1 Axes>"
      ]
     },
     "metadata": {},
     "output_type": "display_data"
    }
   ],
   "source": [
    "# Question 1.02: First, create a numpy vector called `x_grid` containing the\n",
    "# numbers from -5 to 5 in increments of 1. Then use your `square` function to\n",
    "# create a numpy vector called `y_values` that contains the squared values of\n",
    "# `x_grid`. Then plot the `y_values` over the range of `x_grid` as a line\n",
    "# graph.\n",
    "\n",
    "x_grid = np.arange(-5, 6, 1)   # Replace with your code\n",
    "y_values = x_grid**2    # Replace with your code\n",
    "\n",
    "\n",
    "# optional: Create a line plot of the y_values\n",
    "import seaborn as sns\n",
    "import matplotlib.pyplot as plt\n",
    "\n",
    "plt.plot(x_grid, y_values)\n",
    "\n",
    "\n",
    "# show plot\n",
    "plt.show()"
   ]
  },
  {
   "cell_type": "code",
   "execution_count": null,
   "id": "154bb33b",
   "metadata": {
    "name": "unnamed-chunk-3"
   },
   "outputs": [],
   "source": [
    "# Question 1.03: What value of $x$ minimizes the function you created for question 1.02?"
   ]
  },
  {
   "cell_type": "markdown",
   "id": "ea9f85bf",
   "metadata": {},
   "source": [
    "While it's clear to see what value of $x$ minimizes the function, many problems we'll tackle in the future do not have such a clear answer. In these cases, we'll approximate a solution to the problem using Python (or R) code. Let's explore some possible techniques using the `square` function as our example."
   ]
  },
  {
   "cell_type": "markdown",
   "id": "d4d6615e",
   "metadata": {},
   "source": [
    "## Grid search\n",
    "\n",
    "One way to tackle the problem of approximating the minimum value of a function would be to input multiple values into your function and see which one returns the smallest answer. This approach is called \"grid search.\" Grid search commonly appears in the context of finding the best \"hyperparameters\" to use when applying a machine learning model to your data. Hyperparameters refer to certain values, or settings, a data scientist must choose when estimating a model to ensure a good fit to the data. For example, when using a [random forest classifier](https://parsnip.tidymodels.org/reference/rand_forest.html), the analyst must decide the number of trees to create.\n",
    "\n",
    "In order to find the optimal value using grid search, our task consists of three steps.\n",
    "\n",
    "1. Create a grid of possible values.\n",
    "2. Compute the objective function for each value of the grid.\n",
    "3. Find out which value from the grid best achieves our objective.\n",
    "\n",
    "Let's try this approach with our illustrative example.\n"
   ]
  },
  {
   "cell_type": "code",
   "execution_count": 88,
   "id": "d99509ad",
   "metadata": {
    "name": "unnamed-chunk-4"
   },
   "outputs": [
    {
     "data": {
      "text/plain": [
       "-5.0"
      ]
     },
     "execution_count": 88,
     "metadata": {},
     "output_type": "execute_result"
    }
   ],
   "source": [
    "# Question 1.04: Create a vector called `x_grid` containing numbers ranging\n",
    "# from -5 to 5 in increments of 0.1. Create another vector called `y_values`\n",
    "# that consists of the square (i.e., $f(x) = x^2$) of each number in `x_grid`.\n",
    "# Use your previously created function called `square`.\n",
    "\n",
    "x_grid = np.arange(-5, 5.1, 0.1)    # Replace with your code\n",
    "y_values = square(x_grid) # Replace with your code\n",
    "\n",
    "[x_grid.min().round(3), x_grid.max().round(3)]  # should show [-5.0, 5.0]\n",
    "[y_values.min().round(3), y_values.max().round(3)]  # should show [0.0, 25.0]\n",
    "\n",
    "x_grid.min()"
   ]
  },
  {
   "cell_type": "code",
   "execution_count": 89,
   "id": "f1820dd9",
   "metadata": {
    "name": "unnamed-chunk-5"
   },
   "outputs": [
    {
     "name": "stdout",
     "output_type": "stream",
     "text": [
      "95040\n"
     ]
    }
   ],
   "source": [
    "# Question 1.05: Create a function called `find_min` that returns a value from\n",
    "# `x_grid` corresponding to the minimum value of `y_values`. Your function\n",
    "# should accept two arguments, `x_vec` and `y_vec`. If there are multiple\n",
    "# values in `x_vec` that correspond to the minimum value of `y_values`, your\n",
    "# function should return the lowest of those values from `x_vec`. Note: Your\n",
    "# function should use `for` and `if` statements, `len` and `range` but no other\n",
    "# functions from Python or Numpy.\n",
    "\n",
    "# Create a function called `find_min` that returns a value\n",
    "# from `x_grid` corresponding to the minimum value of\n",
    "# `y_values`\n",
    "\n",
    "\n",
    "def find_min(x_vec, y_vec):\n",
    "    miny = float('inf')\n",
    "    ind_list = []\n",
    "    for i in range(len(y_vec)):\n",
    "        if y_vec[i] <= miny:\n",
    "            miny = y_vec[i]\n",
    "    for i in range(len(y_vec)):\n",
    "        if y_vec[i] == miny:\n",
    "            ind_list.append(i)\n",
    "    x_list = [x_vec[i] for i in ind_list]\n",
    "    minx = float('inf')\n",
    "    for i in range(len(x_list)):\n",
    "        if x_list[i] <= minx:\n",
    "            minx = x_list[i]\n",
    "    return minx\n",
    "\n",
    "\n",
    "find_min(np.array([4, 8, 3]), np.array([-999, 0, 0]))  # should return 4\n",
    "find_min(np.array([4, 8, 3]), np.array([0, -999, -999]))  # should return 3\n",
    "find_min(x_grid, y_values).round(3)  # should return the value from question 1.03\n",
    "\n",
    "print(10*12*9*11*8)"
   ]
  },
  {
   "cell_type": "markdown",
   "id": "d72bd1e6",
   "metadata": {},
   "source": [
    "## Random search\n",
    "\n",
    "In grid search we create an evenly spaced set of numbers and evaluated each one. If your function takes multiple inputs and takes a long time to compute, as is common in machine learning, the grid search approach could be prohibitively slow!\n",
    "\n",
    "For example, suppose you had a model with five hyperparameters. Imagine you wanted to try 10 different values for the first parameter, 12 different values for the second parameter, 9 values for the third parameter, 11 values for the fourth parameter, and 8 values for the fifth parameter. Evaluating the model for all possible combinations of the parameter values would take a long time!\n"
   ]
  },
  {
   "cell_type": "code",
   "execution_count": null,
   "id": "1c47e75c",
   "metadata": {
    "name": "unnamed-chunk-6"
   },
   "outputs": [],
   "source": [
    "# Question 1.06: How many different combinations of hyper parameters would you need to evaluate in the example mentioned above?"
   ]
  },
  {
   "cell_type": "markdown",
   "id": "33321f8c",
   "metadata": {},
   "source": [
    "Random search is similar to grid search but with a simple twist. Instead of constructing an evenly-spaced grid of numbers, we randomly select numbers from a range of possible values. Let's try this approach.\n",
    "\n",
    "First, set a seed for your random number generator for reproducibility. This makes it so that others can reproduce the same sequence of random values when they evaluate your work. Set the seed to be 1234.\n"
   ]
  },
  {
   "cell_type": "code",
   "execution_count": 114,
   "id": "d0253154",
   "metadata": {
    "name": "unnamed-chunk-7"
   },
   "outputs": [
    {
     "data": {
      "text/plain": [
       "0.009951255234587286"
      ]
     },
     "execution_count": 114,
     "metadata": {},
     "output_type": "execute_result"
    }
   ],
   "source": [
    "# Question 1.07: Create a vector called `x_rgrid` consisting of 100 values\n",
    "# drawn from a uniform distribution with a domain of -5 to 5, that is\n",
    "# $\\mathcal{U}(-5, 5)$. Then, compute another vector called `y_rvalues` that\n",
    "# consists of the square (i.e., $f(x) = x^2$) of each number in `x_rgrid`.\n",
    "# Finally, use your function `find_min` to find the value in `x_rgrid` that\n",
    "# corresponds to the minimum value in `y_rvalues`. Store this value in a\n",
    "# variable called `xmin_rgrid`.\n",
    "\n",
    "from datetime import datetime as dt\n",
    "np.random.seed(1234)\n",
    "\n",
    "x_rgrid = np.random.uniform(-5, 5, 100)   # Replace with your code\n",
    "y_rvalues = square(x_rgrid)  # Replace with your code\n",
    "\n",
    "start = dt.now()\n",
    "xmin_rgrid = find_min(x_rgrid, y_rvalues)\n",
    "(dt.now() - start).microseconds\n",
    "\n",
    "xmin_rgrid"
   ]
  },
  {
   "cell_type": "markdown",
   "id": "125bfb7c",
   "metadata": {},
   "source": [
    "Theoretically, there are an infinite number of possible values of `x_grid` to evaluate in this example. Even in this simple case our `square` function would take, literally, forever to run. By sampling 100 values between -5 to 5 we reduce the computation to mere milliseconds and still get a good approximation of the true minimum."
   ]
  },
  {
   "cell_type": "markdown",
   "id": "bedbe0b4",
   "metadata": {},
   "source": [
    "## Gradient descent\n",
    "\n",
    "In both grid search and random search, we evaluated each point independently. In other words, after each calculation we did not learn anything about whether we are any closer to the best solution. What if we could choose the next point to evaluate in a smart way based on what we learned from the last calculation? A very popular way to inform the choice of the next point we try in our search is called gradient descent. In this section, we'll program a simple gradient descent algorithm.\n",
    "\n",
    "<!-- Gradient descent utilizes the slope (univariate) or gradient (multivariate) of the objective function. Consider the simple example of $f(x) = x^2$.  -->\n"
   ]
  },
  {
   "cell_type": "code",
   "execution_count": 135,
   "id": "d7e51eaa",
   "metadata": {
    "name": "unnamed-chunk-8"
   },
   "outputs": [
    {
     "data": {
      "image/png": "[encoded data removed]",
      "text/plain": [
       "<Figure size 640x480 with 1 Axes>"
      ]
     },
     "metadata": {},
     "output_type": "display_data"
    }
   ],
   "source": [
    "# Question 1.08: Create a function called, `calc_slope`, which returns the\n",
    "# slope of the `square` function at a given value. Optional: Use seaborn to\n",
    "# plot the value of the slope over the range of -5 to 5 with increments of 0.1.\n",
    "\n",
    "def calc_slope(x):\n",
    "    if isinstance(x, (int, float, np.ndarray)):\n",
    "        return 2 * x\n",
    "    elif isinstance(x, (list, tuple)):\n",
    "        return [2 * i for i in x]\n",
    "    else:\n",
    "        return 'Invalid input'\n",
    "\n",
    "x_grid = np.arange(-5, 5.1, 0.1) \n",
    "dy = calc_slope(x_grid)\n",
    "\n",
    "# optional: Create a line plot of the slope of x_square\n",
    "import seaborn as sns\n",
    "import matplotlib.pyplot as plt\n",
    "\n",
    "plt.plot(x_grid, dy)\n",
    "\n",
    "# show plot\n",
    "plt.show()"
   ]
  },
  {
   "cell_type": "markdown",
   "id": "3ae8ddc2",
   "metadata": {},
   "source": [
    "Note that as we get closer to the minimum value of the function, the absolute value of the slope becomes smaller and smaller. Also, when the slope is negative, moving to the right takes us closer to the solution. On the other hand, when the slope is positive, moving to the left brings us closer. One way to guide our next step would be to use an expression like the following:\n",
    "\n",
    "$$ x - \\eta f'(x) $$\n",
    "\n",
    "where $\\eta$ represents the \"learning rate.\" The learning rate is something the analyst has to determine, for example, using \"cross-validation\". A larger value for the learning rate can lead to faster convergence of an algorithm to the optimum value but can also lead to \"overshooting\". As a (crude) analogy, you can get to your destination more quickly if you drive very fast, but might also be more likely to miss your highway exit.\n",
    "\n",
    "To summarize, in this algorithm, the slope tells us which direction and how big of a step to take towards the minimum while the learning rate moderates the magnitude of that step. We keep changing our best guess for the value of $x$ that will return the optimum value for $y$ by using feedback on the slope as we change the value of $x$. In order to check your understanding, answer the quiz questions below.\n"
   ]
  },
  {
   "cell_type": "code",
   "execution_count": null,
   "id": "7d41c687",
   "metadata": {
    "name": "unnamed-chunk-9"
   },
   "outputs": [],
   "source": [
    "# Question 1.09: What should our next guess be for the value $x$ if our current guess is 3 and we use a learning rate of 0.2?"
   ]
  },
  {
   "cell_type": "code",
   "execution_count": null,
   "id": "2d1785f1",
   "metadata": {
    "name": "unnamed-chunk-10"
   },
   "outputs": [],
   "source": [
    "# Question 1.10: As we get closer to the solution do the increments between each guess get larger or smaller?"
   ]
  },
  {
   "cell_type": "markdown",
   "id": "99ff9680",
   "metadata": {},
   "source": [
    "Now, let's try to implement a part of the gradient descent algorithm.\n"
   ]
  },
  {
   "cell_type": "code",
   "execution_count": 138,
   "id": "63d789af",
   "metadata": {
    "name": "unnamed-chunk-11"
   },
   "outputs": [
    {
     "data": {
      "text/plain": [
       "-3"
      ]
     },
     "execution_count": 138,
     "metadata": {},
     "output_type": "execute_result"
    }
   ],
   "source": [
    "# Question 1.11: Create a function called, `next_guess`, which returns the next\n",
    "# value of $x$ evaluated for a given value of $x$ and a learning rate. Your\n",
    "# function should accept two parameters, `x` and `learning_rate`.\n",
    "\n",
    "def next_guess(x, learning_rate):\n",
    "    return x - learning_rate * calc_slope(x)\n",
    "\n",
    "\n",
    "next_guess(-1, 0.1) # should return -0.8\n",
    "next_guess(-5, 0.01) # should return -4.9\n",
    "next_guess(1, 2) # should return -3"
   ]
  },
  {
   "cell_type": "markdown",
   "id": "3be28847",
   "metadata": {},
   "source": [
    "Now let's work on creating our gradient descent function. Before we get started, let's review what we need to do.\n",
    "\n",
    "1. Start with an initial guess for the value of $x$ (i.e., the minimum).\n",
    "2. Compute the next point to guess using the function `next_guess`.\n",
    "3. Compare the next point to the current point (or current guess).\n",
    "   - If they are close enough to each other, then we accept the current point as the minimum.\n",
    "   - If they are not close enough to each other, then use the function `next_guess` to calculate the next guess.\n",
    "4. Keep repeating the previous step until either subsequent guesses are close enough to each other or you reach a maximum number of iterations.\n",
    "\n",
    "This figure illustrates the algorithm at work. Note how the step size changes as we get closer to the minimum.\n",
    "\n",
    "<div align=\"center\"><img src=\"images/animation.gif\"/></div>\n",
    "\n",
    "In the following exercise, you'll implement the gradient descent algorithm. \n"
   ]
  },
  {
   "cell_type": "code",
   "execution_count": 159,
   "id": "6c617505",
   "metadata": {
    "name": "unnamed-chunk-12"
   },
   "outputs": [
    {
     "name": "stdout",
     "output_type": "stream",
     "text": [
      "This occurred after 22 iterations\n",
      "This occurred after 100 iterations\n",
      "This occurred after 1 iteration\n"
     ]
    },
    {
     "data": {
      "text/plain": [
       "0"
      ]
     },
     "execution_count": 159,
     "metadata": {},
     "output_type": "execute_result"
    }
   ],
   "source": [
    "# Question 1.12: Create a function called `grad_desc` that accepts `max_iter`\n",
    "# (short for maximum number of iterations), `tol` (short for tolerance), and an\n",
    "# initial value (`x0`) as arguments. Your function should use a loop that\n",
    "# iterates until the maximum number of iterations (`max_iter`) has been reached\n",
    "# or the difference between subsequent values of $x$ falls below a certain\n",
    "# threshold (i.e., `tol`). Suppose you have `x` (i.e., current guess) and\n",
    "# `next_x` (i.e., next guess) as your variables. If the absolute difference\n",
    "# between `x` and `next_x` is less than the tolerance, return `x`. Get the\n",
    "# function to print (1) if the maximum number of iterations was reached without\n",
    "# convergence or (2) at what number of iterations the algorithm did converge.\n",
    "# The function should return the best guess $x$.\n",
    "\n",
    "def grad_desc(x0, learning_rate = 0.1, max_iter = 100, tol = 0.01):\n",
    "    for i in range(max_iter):\n",
    "        next_x = next_guess(x0, learning_rate)\n",
    "        if abs(x0 - next_x) < tol:\n",
    "            if i == 0:\n",
    "                print(f'This occurred after 1 iteration')\n",
    "            else:\n",
    "                print(f'This occurred after {i+1} iterations')\n",
    "            return round(x0, 3)\n",
    "        elif i == max_iter - 1:\n",
    "            print('This occurred after 100 iterations')\n",
    "            return round(next_x, 3)\n",
    "        x0 = next_x\n",
    "\n",
    "\n",
    "grad_desc(-5) # should return -0.046 and print this occurred after 22 iterations\n",
    "grad_desc(-4, 0.99) # should return -0.53 and print this occurred after 100 iterations\n",
    "grad_desc(0) # should return 0 and print this occurred after 1 iteration"
   ]
  },
  {
   "cell_type": "code",
   "execution_count": null,
   "id": "74eddd00",
   "metadata": {
    "name": "unnamed-chunk-13"
   },
   "outputs": [],
   "source": [
    "# Question 1.13: If you used Code Interpreter in ChatGPT+, please provide the link to the chat session you used here. You can find the link by clicking on the 'Share' button in the upper right corner of the ChatGPT+ window as shown in the screenshot below. If you used another AI-tool, please provide your prompt and the URL for the tool."
   ]
  },
  {
   "cell_type": "markdown",
   "id": "960e2846",
   "metadata": {},
   "source": [
    "<div style=\"text-align:center;\">\n",
    "  <img src=\"images/ebike-trails.png\" height=\"500px\" />\n",
    "</div>\n"
   ]
  },
  {
   "cell_type": "code",
   "execution_count": null,
   "id": "73248435",
   "metadata": {
    "name": "unnamed-chunk-14"
   },
   "outputs": [],
   "source": [
    "# Question 1.14: Please write a short reflection on what AI-tools were and were not useful for when you worked on this case. 3-4 lines of text should be sufficient."
   ]
  },
  {
   "cell_type": "markdown",
   "id": "242d8bd5",
   "metadata": {},
   "source": [
    "## GitHub Extension for Case 1, Part B\n",
    "\n",
    "Your next step is to complete an extension of the exercise above using Git and GitHub. Click on the link below that corresponds to your section and follow the instructions to complete the extension.\n",
    "\n",
    "* FW MSBA: <a href=\"https://classroom.github.com/a/xgs4XAfw\" target=\"_blank\" rel=\"noopener noreferrer\">https://classroom.github.com/a/xgs4XAfw</a>\n",
    "* FT MSBA: <a href=\"https://classroom.github.com/a/voRQj2gr\" target=\"_blank\" rel=\"noopener noreferrer\">https://classroom.github.com/a/voRQj2gr</a>\n",
    "\n",
    "Once you accept the assignment, you will be able to access your repository through the provided link and also at <a href=\"https://github.com/rsm-msba-24-25\" target=\"_blank\" rel=\"noopener noreferrer\">https://github.com/rsm-msba-24-25</a>.\n",
    "\n",
    "After cloning the repo to the `~/git` directory on your computer, read the README.md file and follow the instructions. Once you push your submission to the server and the code passes all tests you will be ready to take on Case 2! Good luck!\n",
    "\n",
    "\n"
   ]
  }
 ],
 "metadata": {
  "jupytext": {
   "cell_metadata_filter": "name,-all"
  },
  "kernelspec": {
   "display_name": "Python 3 (ipykernel)",
   "language": "python",
   "name": "python3"
  },
  "language_info": {
   "codemirror_mode": {
    "name": "ipython",
    "version": 3
   },
   "file_extension": ".py",
   "mimetype": "text/x-python",
   "name": "python",
   "nbconvert_exporter": "python",
   "pygments_lexer": "ipython3",
   "version": "3.11.9"
  }
 },
 "nbformat": 4,
 "nbformat_minor": 5
}
