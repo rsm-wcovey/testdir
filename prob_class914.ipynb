{
 "cells": [
  {
   "cell_type": "code",
   "execution_count": null,
   "metadata": {},
   "outputs": [],
   "source": [
    "from scipy.stats import binom\n",
    "\n",
    "p = .05\n",
    "s = 1\n",
    "\n",
    "for i in range(300):\n",
    "    n = 0 + i\n",
    "    res = 1 - binom.cdf(s, n, p)\n",
    "    if res >= .95:\n",
    "        print(f\"trials: {n}, probability: {res}\")"
   ]
  },
  {
   "cell_type": "code",
   "execution_count": 4,
   "metadata": {},
   "outputs": [
    {
     "data": {
      "text/plain": [
       "93"
      ]
     },
     "execution_count": 4,
     "metadata": {},
     "output_type": "execute_result"
    }
   ],
   "source": [
    "def find_n_trials(successes, prob_suc, req_prob):\n",
    "    from scipy.stats import binom\n",
    "    trial = 1\n",
    "    success_left = successes - 1\n",
    "    while True:\n",
    "        res = 1 - binom.cdf(success_left, trial, prob_suc)\n",
    "        if res >= req_prob:\n",
    "            return trial\n",
    "        trial += 1\n",
    "\n",
    "find_n_trials(2, .05, .95)"
   ]
  },
  {
   "cell_type": "code",
   "execution_count": 5,
   "metadata": {},
   "outputs": [
    {
     "name": "stdout",
     "output_type": "stream",
     "text": [
      "0.1444221831732424\n"
     ]
    }
   ],
   "source": [
    "from scipy.stats import norm\n",
    "import numpy as np\n",
    "mn = 50 \n",
    "std = 20\n",
    "\n",
    "cmn = 2*mn\n",
    "cstd = np.sqrt(2)*std\n",
    "\n",
    "dist = norm(cmn, cstd)\n",
    "print(1 - dist.cdf(130))\n",
    "\n"
   ]
  }
 ],
 "metadata": {
  "kernelspec": {
   "display_name": "base",
   "language": "python",
   "name": "python3"
  },
  "language_info": {
   "codemirror_mode": {
    "name": "ipython",
    "version": 3
   },
   "file_extension": ".py",
   "mimetype": "text/x-python",
   "name": "python",
   "nbconvert_exporter": "python",
   "pygments_lexer": "ipython3",
   "version": "3.11.9"
  }
 },
 "nbformat": 4,
 "nbformat_minor": 2
}
