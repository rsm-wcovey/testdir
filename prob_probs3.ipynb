{
 "cells": [
  {
   "cell_type": "code",
   "execution_count": 56,
   "metadata": {},
   "outputs": [
    {
     "name": "stdout",
     "output_type": "stream",
     "text": [
      "a: 11.081180122969675\n",
      "b: 0.002100\n",
      "c: 31.097926197077104\n",
      "d: 68574.59\n"
     ]
    }
   ],
   "source": [
    "#3.4\n",
    "import numpy as np\n",
    "from scipy.stats import norm, binom\n",
    "\n",
    "warr = 50_000\n",
    "kmean = 61_000\n",
    "kstd = 9_000\n",
    "\n",
    "dist = norm(kmean, kstd)\n",
    "\n",
    "ltail = dist.cdf(warr)\n",
    "print(f\"a: {ltail*100}\")\n",
    "\n",
    "fail_at_warr = dist.pdf(warr)\n",
    "print(f\"b: {fail_at_warr*100:.6f}\")\n",
    "\n",
    "rangeC = dist.cdf(57000) - dist.cdf(42000)\n",
    "print(f\"c: {rangeC*100}\")\n",
    "\n",
    "miles = dist.ppf(0.80)\n",
    "print(f\"d: {miles:.2f}\")\n"
   ]
  },
  {
   "cell_type": "code",
   "execution_count": 57,
   "metadata": {},
   "outputs": [
    {
     "name": "stdout",
     "output_type": "stream",
     "text": [
      "a: 11.2000\n",
      "b: 5.3881\n",
      "d: 34.77936872779806\n"
     ]
    },
    {
     "data": {
      "text/plain": [
       "0.6826894921370859"
      ]
     },
     "execution_count": 57,
     "metadata": {},
     "output_type": "execute_result"
    }
   ],
   "source": [
    "#3.8\n",
    "\n",
    "xmean = 0.07\n",
    "xstd = 0.02\n",
    "\n",
    "ymean = 0.13\n",
    "ystd = 0.08\n",
    "\n",
    "corrxy = -0.4\n",
    "covxy = corrxy * xstd * ystd\n",
    "\n",
    "profx = 0.3\n",
    "profy = 0.7\n",
    "\n",
    "profmean = (profx * xmean) + (profy * ymean)\n",
    "profvar = (profx**2 * xstd**2) + (profy**2 * ystd**2) + (2 * profx * profy * xstd * ystd * corrxy)\n",
    "profstd = np.sqrt(profvar)\n",
    "\n",
    "print(f\"a: {profmean*100:.4f}\")\n",
    "print(f\"b: {profstd*100:.4f}\")\n",
    "\n",
    "profdist = norm(profmean, profstd)\n",
    "rangeD = profdist.cdf(0.15) - profdist.cdf(0.10)\n",
    "print(f\"d: {rangeD*100}\")\n",
    "\n",
    "1 - (profdist.cdf(profmean - profstd) * 2)\n",
    "\n"
   ]
  },
  {
   "cell_type": "code",
   "execution_count": 58,
   "metadata": {},
   "outputs": [
    {
     "name": "stdout",
     "output_type": "stream",
     "text": [
      "6.060865399571416e-298\n",
      "BinomTestResult(k=5, n=2000, alternative='two-sided', statistic=0.0025, pvalue=9.385763177154244e-298)\n"
     ]
    }
   ],
   "source": [
    "#3.18\n",
    "pop = 43000\n",
    "success_prob = 0.30\n",
    "sample = 2000\n",
    "success_obs = 5\n",
    "\n",
    "test = binom.cdf(success_obs, sample, success_prob)\n",
    "\n",
    "print(test)\n",
    "\n",
    "from scipy.stats import binomtest\n",
    "\n",
    "test2 = binomtest(success_obs, sample, success_prob)\n",
    "print(test2)"
   ]
  },
  {
   "cell_type": "code",
   "execution_count": null,
   "metadata": {},
   "outputs": [],
   "source": [
    "#ChatGPT Link: https://chatgpt.com/share/e/f3fec7db-76cc-4dd9-959c-2883e60b3758"
   ]
  }
 ],
 "metadata": {
  "kernelspec": {
   "display_name": "base",
   "language": "python",
   "name": "python3"
  },
  "language_info": {
   "codemirror_mode": {
    "name": "ipython",
    "version": 3
   },
   "file_extension": ".py",
   "mimetype": "text/x-python",
   "name": "python",
   "nbconvert_exporter": "python",
   "pygments_lexer": "ipython3",
   "version": "3.11.9"
  }
 },
 "nbformat": 4,
 "nbformat_minor": 2
}
