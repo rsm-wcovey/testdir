{
 "cells": [
  {
   "cell_type": "markdown",
   "id": "56c59177",
   "metadata": {},
   "source": [
    "\n",
    "## For local analysis\n",
    "\n",
    "If you prefer to develop your code in a Jupyter notebook, you can download <a href=\"cases/mini_case_3.ipynb\">mini_case_3.ipynb</a>. This notebook file has the same text and code snippets that you see on this webpage. After creating the required code, copy-and-paste it into the code-inputs on this webpage for testing. To complete all exercises below, you will also need data file: <a href=\"data/airport_routes.json\" download=\"airport_routes.json\">airport_routes.json</a>"
   ]
  },
  {
   "cell_type": "markdown",
   "id": "752614e7",
   "metadata": {},
   "source": [
    "## What is a network?\n",
    "\n",
    "The proliferation of social media websites has provided us all with at least some exposure to networks. For example, consider the small network depicted in the figure below:\n",
    "\n",
    "<div align=\"center\">\n",
    "  <img src='images/simple_example.png' height=\"400\" />\n",
    "</div>\n",
    "\n",
    "In this figure, Person A is friends with Persons B, C, D, E and F while Person G is only friends with Person F. The circles that represent individuals are called _nodes_ or _vertices_. The connections formed between the nodes (i.e., when they are friends) are called _edges_. While this illustration helps us to visualize the relationships between nodes (people) in a network, it is common to describe the same information in matrix form to facilitate computation. In particular, let the first row and column in the matrix denote connections for Person A, the second row and column denote connections for Person B and so on. Each entry in the matrix will contain either a 1 or 0, which corresponds to whether or not the individual in row $i$ is friends with the individual in column $j$. This matrix is called an _adjacency matrix_. "
   ]
  },
  {
   "cell_type": "markdown",
   "id": "ebf730c0",
   "metadata": {},
   "source": [
    "Check your understanding of how networks can be depicted in matrix form by answering the following quiz questions.\n"
   ]
  },
  {
   "cell_type": "code",
   "execution_count": 1,
   "id": "9c859e19",
   "metadata": {
    "name": "unnamed-chunk-1"
   },
   "outputs": [],
   "source": [
    "# Question 3.01: How many rows should the adjacency matrix of our example network contain?"
   ]
  },
  {
   "cell_type": "code",
   "execution_count": 2,
   "id": "1c5f1a6f",
   "metadata": {
    "name": "unnamed-chunk-2"
   },
   "outputs": [],
   "source": [
    "# Question 3.02: How many columns should the adjacency matrix of our example network contain?"
   ]
  },
  {
   "cell_type": "markdown",
   "id": "b95a9acf",
   "metadata": {},
   "source": [
    "Now, let's take a look at the first two rows of adjacency matrix for the network in the figure above.\n",
    "\n",
    "$$\n",
    "\\begin{equation}\n",
    "\\begin{array}{ccc}\n",
    " & & \\\\\\\\\n",
    " & & \\begin{array}{ccc} A & B & C  & D & E & F & G \\end{array}\\\\\\\\\n",
    " & \\begin{array}{c}  A\\\\\\\\  B \\end{array} &\n",
    "  \\left(\\begin{array}{ccccccc}\n",
    "  \\\\; 0 & \\\\;1 & \\\\;1 & \\\\;1 & \\\\;1 & \\\\;1 & \\\\;0 \\\\\\\\\n",
    "  \\\\; 1 & \\\\;0 & \\\\;0 & \\\\;0 & \\\\;0 & \\\\;1 & \\\\;0 \\\\\\\\\n",
    "  \\end{array}\\right)\n",
    "\\end{array}\n",
    "\\end{equation}\n",
    "$$\n",
    "\n",
    "The first matrix entry represents the connection between Person $A$ and Person $A$. In most networks, we do not consider nodes to be connected to themselves, so we have a $0$ for this entry. The entry in the first row and the second column represents the connection between Person $A$ and Person $B$. Since they are connected, we have a $1$ in this entry. Person $A$ and $B$ are both connected to Person $F$.\n"
   ]
  },
  {
   "cell_type": "code",
   "execution_count": 3,
   "id": "bff5b026",
   "metadata": {
    "name": "unnamed-chunk-3"
   },
   "outputs": [
    {
     "name": "stdout",
     "output_type": "stream",
     "text": [
      "[[0 1 1 1 1 1 0]\n",
      " [1 0 0 0 0 1 0]\n",
      " [1 0 0 0 0 0 0]\n",
      " [1 0 0 0 0 0 0]\n",
      " [1 0 0 0 0 0 0]\n",
      " [1 1 0 0 0 0 1]\n",
      " [0 0 0 0 0 1 0]]\n",
      "14\n",
      "<class 'numpy.matrix'>\n"
     ]
    }
   ],
   "source": [
    "# Question 3.03: Use a Numpy matrix to complete the adjacency matrix. Hint:\n",
    "# Think through how many connections there should be in the matrix. Is that\n",
    "# consistent with the number printed by `print(X.sum())`?\n",
    "\n",
    "import numpy as np\n",
    "\n",
    "X = np.matrix(\n",
    "    [\n",
    "        [0, 1, 1, 1, 1, 1, 0],\n",
    "        [1, 0, 0, 0, 0, 1, 0],\n",
    "        [1, 0, 0, 0, 0, 0, 0],\n",
    "        [1, 0, 0, 0, 0, 0, 0],\n",
    "        [1, 0, 0, 0, 0, 0, 0],\n",
    "        [1, 1, 0, 0, 0, 0, 1],\n",
    "        [0, 0, 0, 0, 0, 1, 0],\n",
    "    ]\n",
    ")\n",
    "\n",
    "print(X)\n",
    "print(X.sum())\n",
    "print(type(X))\n"
   ]
  },
  {
   "cell_type": "markdown",
   "id": "d7bba4be",
   "metadata": {},
   "source": [
    "As you can see, adjacency matrices are square matrices (i.e., the number of rows equals the number of columns). The next exercise asks you to write a function that checks whether a matrix is square or not.\n"
   ]
  },
  {
   "cell_type": "code",
   "execution_count": 4,
   "id": "88ad0def",
   "metadata": {
    "name": "unnamed-chunk-4"
   },
   "outputs": [
    {
     "data": {
      "text/plain": [
       "True"
      ]
     },
     "execution_count": 4,
     "metadata": {},
     "output_type": "execute_result"
    }
   ],
   "source": [
    "# Question 3.04: Write a function that is called `is_square` that accepts a\n",
    "# matrix and returns a `True` if the matrix has the same number of rows and\n",
    "# columns and `False` otherwise.\n",
    "\n",
    "import numpy as np\n",
    "\n",
    "def is_square(X): \n",
    "    return X.shape[0] == X.shape[1]\n",
    "\n",
    "\n",
    "is_square(np.empty((2, 3))) # should return False\n",
    "is_square(np.empty((3, 3))) # should return True"
   ]
  },
  {
   "cell_type": "markdown",
   "id": "d094f6b8",
   "metadata": {},
   "source": [
    "Remember, entries inform us about whether two nodes are connected. Use this property of adjacency matrices to write a function that determines the neighbors of a particular node.\n"
   ]
  },
  {
   "cell_type": "code",
   "execution_count": 5,
   "id": "f90afc85",
   "metadata": {
    "name": "unnamed-chunk-5"
   },
   "outputs": [
    {
     "data": {
      "text/plain": [
       "list"
      ]
     },
     "execution_count": 5,
     "metadata": {},
     "output_type": "execute_result"
    }
   ],
   "source": [
    "# Question 3.05: Write a function called `neighbors` that accepts an adjacency\n",
    "# matrix and a node index and that returns a list of the indices of the\n",
    "# neighbors for a given node. In other words, for a given row, return a list of\n",
    "# all the column indices that have a non-zero entry for that row. Use a `for`\n",
    "# loop to generate the result.\n",
    "\n",
    "def neighbors(X, n):\n",
    "    return [i for i in range(X.shape[0]) if X[n, i] != 0]\n",
    "\n",
    "\n",
    "\n",
    "\n",
    "mx = np.matrix([[0, 1], [1, 0]])\n",
    "neighbors(mx, 0)  # should return [1]\n",
    "neighbors(mx, 1)  # should return [0]\n",
    "nb2 = neighbors(X, 2)  # should return [0]\n",
    "nb5 = neighbors(X, 5)  # should return [0, 1, 6]\n",
    "nb2, nb5\n",
    "type(nb5) # should return `list`"
   ]
  },
  {
   "cell_type": "code",
   "execution_count": 6,
   "id": "a2fade99",
   "metadata": {},
   "outputs": [
    {
     "data": {
      "text/plain": [
       "matrix([[0, 1],\n",
       "        [1, 0]])"
      ]
     },
     "execution_count": 6,
     "metadata": {},
     "output_type": "execute_result"
    }
   ],
   "source": [
    "mx = np.matrix([[0, 1], [1, 0]])\n",
    "mx"
   ]
  },
  {
   "cell_type": "markdown",
   "id": "5a718d15",
   "metadata": {},
   "source": [
    "## Walks\n",
    "\n",
    "To understand the relationship between different nodes in a network, it's natural to think about the sequence of edges that connect two given nodes. For example, consider the ways in which Person G is connected to Person D. In particular, consider this sequence of edges,\n",
    "\n",
    "$$G \\rightarrow F \\rightarrow A \\rightarrow D$$\n",
    "\n",
    "A sequence of edges connecting two nodes is called a _walk_. This is not the only walk connecting Person G and Person D, however. Consider the following walk:\n",
    "\n",
    "$$G \\rightarrow F \\rightarrow B \\rightarrow A \\rightarrow D$$\n",
    "\n",
    "While both walks connect Person G and Person D, the second walk is less direct. One way to compare walks is the _length of the walk_. For example, the first walk mentioned above has a length of 3 while the second path has a length of 4. For very small networks like the one in the example above, calculating the length of the walk appears straightforward. However, when the network becomes larger, we'll need a more systematic way to find walks. This is where the adjacency matrix can help. Denote an adjacency matrix as $A$. Note that $A^1$ tells us the number of ways two nodes connect with walks of length 1. Each entry of $A^2$ tells us the number of ways two nodes connect with walks of length 2 and so on. You will prove this in the following exercises.\n",
    "\n",
    "<div class=\"resources\">\n",
    "For more on matrix multiplication watch the following `{r} bs_modal(\"Matrix multiplication\", \"matrices\", inclMD(\"./cases/modals/matrices.md\"))`\n",
    "</div>\n"
   ]
  },
  {
   "cell_type": "code",
   "execution_count": 7,
   "id": "f207aa9c",
   "metadata": {
    "name": "unnamed-chunk-6"
   },
   "outputs": [
    {
     "data": {
      "text/plain": [
       "matrix([[13., 16., 21.],\n",
       "        [37., 49., 66.]])"
      ]
     },
     "execution_count": 7,
     "metadata": {},
     "output_type": "execute_result"
    }
   ],
   "source": [
    "# Question 3.06: Write a function called `matmult` that accepts any two\n",
    "# matrices of compatible dimensions and returns the product of those two\n",
    "# matrices using loops. In subsequent sessions, we'll cover how to use NumPy\n",
    "# functions to do this for us.\n",
    "\n",
    "import numpy as np\n",
    "\n",
    "\n",
    "def matmult(A, B):\n",
    "    result = np.zeros((A.shape[0], B.shape[1]))\n",
    "    for i in range(A.shape[0]):\n",
    "        for j in range(B.shape[1]):\n",
    "            for k in range(A.shape[1]):\n",
    "                result[i, j] += A[i, k] * B[k, j]\n",
    "    return np.matrix(result)\n",
    "\n",
    "def col_vector_norm(x):\n",
    "    # Capture the length of the vector (i.e., number of rows for a column vector)\n",
    "    vector_len = x.shape[0]\n",
    "    # Initialize the calcuation with zero\n",
    "    sum_of_squares = 0\n",
    "    # Loop over each element of the vector\n",
    "    for i in range(vector_len):\n",
    "        sum_of_squares += x[i, 0] ** 2\n",
    "    # Return the square root of the sum of squares\n",
    "    return np.sqrt(sum_of_squares)\n",
    "\n",
    "\n",
    "A = np.matrix([[0, 1, 2], [3, 4, 5]])\n",
    "B = np.matrix([[0, 1], [2, 3], [4, 5]])\n",
    "matmult(A, B) # should return matrix([[10, 13], [28, 40]])\n",
    "\n",
    "C = np.matrix([[0, 1, 2], [3, 4, 5], [5, 6, 8]])\n",
    "matmult(A, C) # should return matrix([[13, 16, 21], [37, 49, 66]])"
   ]
  },
  {
   "cell_type": "code",
   "execution_count": 8,
   "id": "ae233d21",
   "metadata": {
    "lines_to_next_cell": 2,
    "name": "unnamed-chunk-7"
   },
   "outputs": [
    {
     "data": {
      "text/plain": [
       "matrix([[ 6., 11.],\n",
       "        [22., 39.]])"
      ]
     },
     "execution_count": 8,
     "metadata": {},
     "output_type": "execute_result"
    }
   ],
   "source": [
    "# Question 3.07: Create a function called `matpow` that accepts a square matrix\n",
    "# and a positive integer as input. The function should return the square matrix\n",
    "# to the power of the integer (e.g., $A^n$). Use your `maltmult` function from\n",
    "# the previous step and use loops to repeat the matrix calculations. We will\n",
    "# cover how to use NumPy to do this in subsequent sessions.\n",
    "\n",
    "def matpow(X, n):\n",
    "    Y = X \n",
    "    for i in range(n-1):\n",
    "        Y = matmult(Y, X)\n",
    "    return Y\n",
    "\n",
    "\n",
    "A = np.matrix([[0, 1], [2, 3]])\n",
    "matpow(A, 3) # should return matrix([[6, 11], [22, 39]])\n",
    "#B = matmult(A, A)\n",
    "#atmult(A, B) # should return matrix([[6, 11], [22, 39]])"
   ]
  },
  {
   "cell_type": "markdown",
   "id": "796994a6",
   "metadata": {},
   "source": [
    "Now, let's use these two functions to create a new function that tells us whether a node is connected within a specific walk distance.\n"
   ]
  },
  {
   "cell_type": "code",
   "execution_count": 9,
   "id": "2109d3a7",
   "metadata": {
    "name": "unnamed-chunk-8"
   },
   "outputs": [
    {
     "data": {
      "text/plain": [
       "True"
      ]
     },
     "execution_count": 9,
     "metadata": {},
     "output_type": "execute_result"
    }
   ],
   "source": [
    "# Question 3.08: Create a function that checks whether a node (let's call it\n",
    "# the `source` node) is connected to another node (let's call this node the\n",
    "# `target` node). Your function should accept an adjacency matrix, source node,\n",
    "# target node, and a maximum length. `is_connected` should return a boolean for\n",
    "# whether or not the source node and target node are connected within a maximum\n",
    "# walk length.\n",
    "\n",
    "def is_connected(A, source, target, max_len):\n",
    "    for i in range(max_len+1):\n",
    "        m = matpow(A, i)\n",
    "        if target in neighbors(m, source):\n",
    "            return True\n",
    "    return False\n",
    "\n",
    "is_connected(X, 1, 2, 2) # should return True\n",
    "is_connected(X, 1, 2, 1) # should return False\n",
    "is_connected(X, 0, 1, 1) # should return True\n",
    "is_connected(X, 5, 6, 1) # should return True"
   ]
  },
  {
   "cell_type": "markdown",
   "id": "761e1a99",
   "metadata": {},
   "source": [
    "## Centrality\n",
    "\n",
    "In a given network, we might be interested in which nodes might be more \"influential\" than others. In the simple example we've discussed so far, it seems like Person A would be pretty influential in this network. It seems like Person C and Person D would be equally influential, but what about Person G? We can quantify how influential a specific node is in a network using a measure of centrality."
   ]
  },
  {
   "cell_type": "markdown",
   "id": "6e988bcf",
   "metadata": {},
   "source": [
    "### Degree Centrality\n",
    "\n",
    "One way to quantify the centrality of a node in a network would be to count the number of its neighbors normalized by the maximum number of neighbors possible.\n"
   ]
  },
  {
   "cell_type": "code",
   "execution_count": 10,
   "id": "375b4316",
   "metadata": {
    "name": "unnamed-chunk-9"
   },
   "outputs": [],
   "source": [
    "# Question 3.09: For a network with 10 nodes, what is the maximum number of neighbors any given node could have? Assume a node will not be connected to itself."
   ]
  },
  {
   "cell_type": "markdown",
   "id": "741e4740",
   "metadata": {},
   "source": [
    "\"Degree centrality\" is a centrality measure which simply counts the number of neighbors and normalizes it by maximum number of neighbors possible. In the next exercise, we'll write a function to calculate degree centrality.\n"
   ]
  },
  {
   "cell_type": "code",
   "execution_count": 11,
   "id": "e73549fa",
   "metadata": {
    "name": "unnamed-chunk-10"
   },
   "outputs": [
    {
     "name": "stdout",
     "output_type": "stream",
     "text": [
      "0.3333333333333333\n"
     ]
    }
   ],
   "source": [
    "# Question 3.10: Write a function called `degree_centrality` which accepts an\n",
    "# adjacency matrix and a node index and returns the degree centrality of that\n",
    "# node.\n",
    "\n",
    "def degree_centrality(A, n):\n",
    "    mx = A.shape[0]-1\n",
    "    nb = len(neighbors(A, n))\n",
    "    return nb/mx\n",
    "\n",
    "\n",
    "degree_centrality(X, 1) # should return 0.333 approximately (i.e., 2/6)\n",
    "degree_centrality(X, 6) # should return 0.166 approximately (i.e., 1/6)\n",
    "print(2/6)"
   ]
  },
  {
   "cell_type": "markdown",
   "id": "5cf772f9",
   "metadata": {},
   "source": [
    "### Eigenvector centrality\n",
    "\n",
    "Degree centrality has an intuitive interpretation, but might not fully capture centrality in other settings. For example, consider the following network.\n",
    "<div align=\"center\">\n",
    "  <img src='images/bowtie_example.png' height=\"400\" />\n",
    "</div>\n"
   ]
  },
  {
   "cell_type": "code",
   "execution_count": 12,
   "id": "0f2806d6",
   "metadata": {
    "name": "unnamed-chunk-11"
   },
   "outputs": [],
   "source": [
    "# Question 3.11: What is the degree centrality of node 0? Write your answer as a decimal and round to 3 decimal places (e.g., 0.123)"
   ]
  },
  {
   "cell_type": "code",
   "execution_count": 13,
   "id": "50ca288a",
   "metadata": {
    "name": "unnamed-chunk-12"
   },
   "outputs": [],
   "source": [
    "# Question 3.12: What is the degree centrality of node 4? Write your answer as a decimal and round to 3 decimal places (e.g., 0.123)"
   ]
  },
  {
   "cell_type": "markdown",
   "id": "8d3fa2d5",
   "metadata": {},
   "source": [
    "While node 0 and node 4 both have the same degree centrality, it seems natural that node 0 might be more central to the network. In particular, node 0 might seem more central to the network because it is connected to more influential neighbors than node 4. One way to capture this phenomenon is to use a different measure of centrality that also takes into account the centrality of a node's neighbors. For this measure of centrality, let $x_i$ denote the centrality of node $i$. In order to define this measure, we can use a scaled sum of the centrality of its neighbors. For example, if node $i$ is connected to node $j$, then $a_{ij}=1$ in the adjacency matrix, and therefore node $j$'s contribution to node $i$'s centrality is: $a_{ij} x_j$. In order to add up the contributions from all of node $i$'s neighbors we can compute: $\\sum_j a_{ij} x_j$. Finally, we can scale this sum by a factor $\\frac{1}{\\lambda}$ to arrive at:"
   ]
  },
  {
   "cell_type": "markdown",
   "id": "6142baed",
   "metadata": {},
   "source": [
    "$$\n",
    "  x_i = \\frac{1}{\\lambda} \\sum_j a_{ij} x_j\n",
    "$$\n",
    "What this says is that node $i$'s centrality is the sum of the centralities of all of node $i$'s neighbors times a scale factor. In other words, if my neighbors have higher centrality, then I too will have higher centrality. What is complicated with this measure is that one cannot compute node $i$'s centrality without first computing its neighbors centrality, and their centralities in turn depend on node $i$'s centrality. Therefore, everything must be computed together by solving the linear system of equations:\n",
    "\n",
    "$$\n",
    " Ax = \\lambda x\n",
    "$$\n",
    "\n",
    "This equation may look familiar to you, and it is the reason why this measure of centrality is called eigenvector centrality. It is because we are ultimately finding the eigenvectors of A (see (<a href=\"https://www.khanacademy.org/math/linear-algebra/alternate-bases/eigen-everything/v/linear-algebra-introduction-to-eigenvalues-and-eigenvectors\" target = \"_blank\">Khan Academy on Eigenvectors</a>))\n",
    "\n",
    "How do we find eigenvectors? We can do so numerically using power iteration (also know as the power method). This consists of the following steps.\n",
    "\n",
    "- Start with a non-zero random vector, $x_0$.\n",
    "- Iterate the following recursive formula to arrive at a solution. At the $k$-th step of the loop,\n",
    "$$\n",
    "  x_{k+1} = \\frac{Ax_k}{\\left\\lVert Ax_k \\right\\rVert}\n",
    "$$\n",
    "where $\\left\\lVert \\cdot \\right\\rVert$ denotes the L2-norm. Note that the L2-norm is defined for a vector $y = (y_1, \\dots, y_n)$ as follows\n",
    "$$\n",
    "  \\left\\lVert y \\right\\rVert = \\sqrt{y_1^2 + y_2^2 + \\dots + y_n^2}\n",
    "$$\n",
    "\n",
    "The following exercises will help you work through writing your own power method function.\n"
   ]
  },
  {
   "cell_type": "code",
   "execution_count": 14,
   "id": "f278229b",
   "metadata": {
    "name": "unnamed-chunk-13"
   },
   "outputs": [
    {
     "name": "stdout",
     "output_type": "stream",
     "text": [
      "[[ 1]\n",
      " [-2]\n",
      " [ 2]]\n"
     ]
    },
    {
     "data": {
      "text/plain": [
       "3.0"
      ]
     },
     "execution_count": 14,
     "metadata": {},
     "output_type": "execute_result"
    }
   ],
   "source": [
    "# Question 3.13: Write a function called `col_vector_norm` which accepts a\n",
    "# column vector, `x`, and returns the norm of the vector as shown in Equation\n",
    "# (7) using a loop.\n",
    "\n",
    "import numpy as np\n",
    "\n",
    "\n",
    "def col_vector_norm(x):\n",
    "    # Capture the length of the vector (i.e., number of rows for a column vector)\n",
    "    vector_len = x.shape[0]\n",
    "    # Initialize the calcuation with zero\n",
    "    sum_of_squares = 0\n",
    "    # Loop over each element of the vector\n",
    "    for i in range(vector_len):\n",
    "        sum_of_squares += x[i, 0] ** 2\n",
    "    # Return the square root of the sum of squares\n",
    "    return np.sqrt(sum_of_squares)\n",
    "\n",
    "X = np.matrix([[1], [-2], [2]])\n",
    "print(X)\n",
    "col_vector_norm(X)  # Should return 3.0 (i.e,. np.sqrt(1**2 + (-2)**2 + 2**2))"
   ]
  },
  {
   "cell_type": "code",
   "execution_count": 15,
   "id": "19087858",
   "metadata": {
    "name": "unnamed-chunk-14"
   },
   "outputs": [
    {
     "name": "stdout",
     "output_type": "stream",
     "text": [
      "Converged after 10 iterations.\n"
     ]
    },
    {
     "data": {
      "text/plain": [
       "matrix([[0.57702775],\n",
       "        [0.57760872],\n",
       "        [0.57741418]])"
      ]
     },
     "execution_count": 15,
     "metadata": {},
     "output_type": "execute_result"
    }
   ],
   "source": [
    "# Question 3.14: Write a function called `find_eigenvector` that accepts an\n",
    "# adjacency matrix, `A`, a maximum number of iterations, `max_iter`, and\n",
    "# tolerance level, `tol`. Your function should return the result of the\n",
    "# recursive formula (6) until either all the values in the eigenvector converge\n",
    "# within a tolerance level or the maximum number of iterations has been\n",
    "# reached. Use your `matmult` function to calculate $Ax_k$ and use\n",
    "# `col_vector_norm` to calculate $\\left\\lVert Ax_k\\right\\rVert$\n",
    "\n",
    "np.random.seed(495)\n",
    "\n",
    "\n",
    "def find_eigenvector(A, max_iter, tol):\n",
    "    # Step 1: Initialize a random vector of the same length as the number of rows in A\n",
    "    n = A.shape[0]  # Number of rows (or columns, since it's an adjacency matrix)\n",
    "    x = np.random.rand(n, 1)  # Initial random vector\n",
    "    \n",
    "    # Step 2: Normalize the initial vector\n",
    "    x = x / col_vector_norm(x)\n",
    "    \n",
    "    # Step 3: Iterate up to max_iter times\n",
    "    for i in range(max_iter):\n",
    "        # Step 4: Multiply A by the vector x to get the next eigenvector approximation\n",
    "        Ax = matmult(A, x)\n",
    "        \n",
    "        # Step 5: Normalize the resulting vector\n",
    "        Ax_norm = col_vector_norm(Ax)\n",
    "        x_new = Ax / Ax_norm\n",
    "        \n",
    "        # Step 6: Check for convergence (if the change between x_new and x is within tolerance)\n",
    "        if np.allclose(x_new, x, atol=tol):\n",
    "            print(f\"Converged after {i+1} iterations.\")\n",
    "            return x_new\n",
    "        \n",
    "        # Step 7: Update x with the new vector\n",
    "        x = x_new\n",
    "    \n",
    "    # If it reaches max_iter without converging\n",
    "    print(f\"Reached maximum iterations ({max_iter}) without full convergence.\")\n",
    "    return x\n",
    "   \n",
    "\n",
    "\n",
    "example_A = np.matrix([[0, 1, 1], [1, 0, 1], [1, 1, 0]])\n",
    "find_eigenvector(example_A, 100, 1e-3) # Should return a column vector approximately equal to np.matrix([[0.58], [0.58], [0.58]])"
   ]
  },
  {
   "cell_type": "code",
   "execution_count": 16,
   "id": "ff39b0cd",
   "metadata": {},
   "outputs": [
    {
     "name": "stdout",
     "output_type": "stream",
     "text": [
      "Converged in 1 iterations.\n"
     ]
    },
    {
     "data": {
      "text/plain": [
       "matrix([[0.57735027],\n",
       "        [0.57735027],\n",
       "        [0.57735027]])"
      ]
     },
     "execution_count": 16,
     "metadata": {},
     "output_type": "execute_result"
    }
   ],
   "source": [
    "# Question 3.14: Write a function called `find_eigenvector` that accepts an\n",
    "# adjacency matrix, `A`, a maximum number of iterations, `max_iter`, and\n",
    "# tolerance level, `tol`. Your function should return the result of the\n",
    "# recursive formula (6) until either all the values in the eigenvector converge\n",
    "# within a tolerance level or the maximum number of iterations has been\n",
    "# reached. Use your `matmult` function to calculate $Ax_k$ and use\n",
    "# `col_vector_norm` to calculate $\\left\\lVert Ax_k\\right\\rVert$\n",
    "\n",
    "np.random.seed(495)\n",
    "\n",
    "\n",
    "def find_eigenvector(A, max_iter, tol):\n",
    "    # Initialize the eigenvector (column vector of ones)\n",
    "    xk = np.ones((A.shape[0], 1))\n",
    "\n",
    "    for iteration in range(max_iter):\n",
    "        # Compute Ax_k using matmult\n",
    "        Axk = matmult(A, xk)\n",
    "\n",
    "        # Normalize the result using col_vector_norm\n",
    "        norm_Axk = col_vector_norm(Axk)\n",
    "        xk_next = Axk / norm_Axk\n",
    "\n",
    "        # Check if the change between xk and xk_next is within tolerance\n",
    "        if np.allclose(xk, xk_next, atol=tol):\n",
    "            print(f\"Converged in {iteration} iterations.\")\n",
    "            return xk_next\n",
    "\n",
    "        # Update xk for the next iteration\n",
    "        xk = xk_next\n",
    "\n",
    "    # If max_iter is reached without convergence\n",
    "    print(f\"Did not converge in {max_iter} iterations.\")\n",
    "    return xk\n",
    "   \n",
    "\n",
    "\n",
    "example_A = np.matrix([[0, 1, 1], [1, 0, 1], [1, 1, 0]])\n",
    "find_eigenvector(example_A, 100, 1e-3) # Should return a column vector approximately equal to np.matrix([[0.58], [0.58], [0.58]])"
   ]
  },
  {
   "cell_type": "code",
   "execution_count": 17,
   "id": "560e9721",
   "metadata": {
    "name": "unnamed-chunk-15"
   },
   "outputs": [
    {
     "name": "stdout",
     "output_type": "stream",
     "text": [
      "Converged in 35 iterations.\n"
     ]
    },
    {
     "data": {
      "text/plain": [
       "([0.3333333333333333,\n",
       "  0.5,\n",
       "  0.5,\n",
       "  0.3333333333333333,\n",
       "  0.3333333333333333,\n",
       "  0.3333333333333333,\n",
       "  0.3333333333333333],\n",
       " matrix([[0.38381509],\n",
       "         [0.4496124 ],\n",
       "         [0.4496124 ],\n",
       "         [0.33480717],\n",
       "         [0.33480717],\n",
       "         [0.33480717],\n",
       "         [0.33480717]]))"
      ]
     },
     "execution_count": 17,
     "metadata": {},
     "output_type": "execute_result"
    }
   ],
   "source": [
    "# Question 3.15: Compare the centrality measures using an adjacency matrix $X$.\n",
    "# Calculate the degree centrality for each node using your degree_centrality\n",
    "# function in a list called `degree_centrality_values`. Store the result from\n",
    "# applying your `find_eigenvector` function to the matrix $X$ with parameters\n",
    "# `max_iter=1000` and `tol=1e-5` in a variable called\n",
    "# `eigenvector_centrality_values`.\n",
    "\n",
    "np.random.seed(495)\n",
    "\n",
    "# Adjancency matrix from previous example\n",
    "X = np.matrix(\n",
    "    [\n",
    "        [0, 1, 1, 0, 0, 0, 0],\n",
    "        [1, 0, 0, 1, 0, 0, 1],\n",
    "        [1, 0, 0, 0, 1, 1, 0],\n",
    "        [0, 1, 0, 0, 0, 0, 1],\n",
    "        [0, 0, 1, 0, 0, 1, 0],\n",
    "        [0, 0, 1, 0, 1, 0, 0],\n",
    "        [0, 1, 0, 1, 0, 0, 0],\n",
    "    ]\n",
    ")\n",
    "\n",
    "degree_centrality_values =  [degree_centrality(X, i) for i in range(X.shape[0])]\n",
    "eigenvector_centrality_values = find_eigenvector(X, 1000, 1e-5)\n",
    "\n",
    "degree_centrality_values, eigenvector_centrality_values\n"
   ]
  },
  {
   "cell_type": "code",
   "execution_count": 18,
   "id": "b03bdc40",
   "metadata": {},
   "outputs": [
    {
     "data": {
      "text/plain": [
       "matrix([[0, 1, 5],\n",
       "        [1, 0, 5],\n",
       "        [1, 1, 5]])"
      ]
     },
     "execution_count": 18,
     "metadata": {},
     "output_type": "execute_result"
    }
   ],
   "source": [
    "tm = np.matrix([[0, 1, 1], [1, 0, 1], [5, 5, 5]])\n",
    "tm.T"
   ]
  },
  {
   "cell_type": "code",
   "execution_count": 19,
   "id": "f86ab7c4",
   "metadata": {},
   "outputs": [
    {
     "name": "stdout",
     "output_type": "stream",
     "text": [
      "[2, 3, 5]\n",
      "[2, 5]\n"
     ]
    }
   ],
   "source": [
    "X = np.matrix(\n",
    "    [\n",
    "        [0, 1, 1, 0, 0, 0, 0],\n",
    "        [1, 0, 0, 1, 0, 0, 1],\n",
    "        [1, 0, 0, 0, 1, 1, 0],\n",
    "        [0, 1, 0, 0, 0, 0, 1],\n",
    "        [0, 0, 1, 1, 0, 1, 0],\n",
    "        [0, 0, 1, 0, 1, 0, 0],\n",
    "        [0, 1, 0, 1, 0, 0, 0],\n",
    "    ]\n",
    ")\n",
    "print(neighbors(X, 4))  # should return [0, 3, 6]\n",
    "print(neighbors(X.T, 4))"
   ]
  },
  {
   "cell_type": "markdown",
   "id": "6e3e2d84",
   "metadata": {},
   "source": [
    "Eigenvector centrality turns out to be a pretty powerful way to assign centrality in a network. In fact, [PageRank](https://en.wikipedia.org/wiki/PageRank), the algorithm that launched Google, is closely related to eigenvector centrality. Larry Page and Sergey Brin developed PageRank to rank the importance of websites by whether other \"central\" websites linked to them. In the next section, we consider one more attribute of network: whether relationships are reciprocal or not."
   ]
  },
  {
   "cell_type": "markdown",
   "id": "3724fc0c",
   "metadata": {},
   "source": [
    "## Directed versus undirected\n",
    "\n",
    "So far, we have talked about relationships that are reciprocal (i.e., friends or not). But relationships can also be one-way. For example, on a Twitter user may follow another user, but may not be followed by that same user. These situations are called _directed_ networks. In terms of the adjacency matrix, an _undirected_ network would be symmetric.\n"
   ]
  },
  {
   "cell_type": "code",
   "execution_count": 20,
   "id": "c712b84f",
   "metadata": {
    "name": "unnamed-chunk-16"
   },
   "outputs": [
    {
     "data": {
      "text/plain": [
       "False"
      ]
     },
     "execution_count": 20,
     "metadata": {},
     "output_type": "execute_result"
    }
   ],
   "source": [
    "# Question 3.16: Write a function called `is_symmetric` that accepts a square\n",
    "# matrix as input and returns a boolean equal to `True` when the matrix is\n",
    "# symmetric and `False` otherwise. Try to do this using a loop.\n",
    "\n",
    "import numpy as np\n",
    "\n",
    "\n",
    "def is_symmetric(X):\n",
    "    if is_square(X) == False:\n",
    "        return \"Matrix is not square\"\n",
    "    for i in range(X.shape[0]):\n",
    "        if neighbors(X, i) != neighbors(X.T, i):\n",
    "            return False\n",
    "    return True\n",
    "\n",
    "\n",
    "X = np.matrix([[0, 1], [1, 0]])\n",
    "is_symmetric(X)  # should return True\n",
    "X = np.matrix([[0, 0], [1, 0]])\n",
    "is_symmetric(X)  # should return False"
   ]
  },
  {
   "cell_type": "code",
   "execution_count": 21,
   "id": "9f4a8d27",
   "metadata": {
    "name": "unnamed-chunk-17"
   },
   "outputs": [],
   "source": [
    "# Question 3.17: If you used Code Interpreter in ChatGPT+, please provide the link to the chat session you used here. You can find the link by clicking on the 'Share' button in the upper right corner of the ChatGPT+ window as shown in the screenshot below. If you used another AI-tool, please provide your prompt and the URL for the tool."
   ]
  },
  {
   "cell_type": "markdown",
   "id": "a474919c",
   "metadata": {},
   "source": [
    "<div style=\"text-align:center;\">\n",
    "  <img src=\"images/ebike-trails.png\" height=\"500px\" />\n",
    "</div>\n"
   ]
  },
  {
   "cell_type": "code",
   "execution_count": 22,
   "id": "c328c746",
   "metadata": {
    "name": "unnamed-chunk-18"
   },
   "outputs": [],
   "source": [
    "# Question 3.18: Please write a short reflection on what AI-tools were and were not useful for when you worked on this case. 3-4 lines of text should be sufficient."
   ]
  },
  {
   "cell_type": "markdown",
   "id": "6c23667a",
   "metadata": {},
   "source": [
    "## GitHub Extension for Case 3, Part B\n",
    "\n",
    "Your next step is to complete an extension of the exercise above using Git and GitHub. Click on the link below that corresponds to your section and follow the instructions to complete the extension.\n",
    "\n",
    "* FW MSBA: <a href=\"https://classroom.github.com/a/I2K4J7EJ\" target=\"_blank\" rel=\"noopener noreferrer\">https://classroom.github.com/a/I2K4J7EJ</a>\n",
    "* FT MSBA: <a href=\"https://classroom.github.com/a/ztRBUi16\" target=\"_blank\" rel=\"noopener noreferrer\">https://classroom.github.com/a/ztRBUi16</a>\n",
    "\n",
    "Once you accept the assignment, you will be able to access your repository through the provided link and also at <a href=\"https://github.com/rsm-msba-24-25\" target=\"_blank\" rel=\"noopener noreferrer\">https://github.com/rsm-msba-24-25</a>.\n",
    "\n",
    "After cloning the repo to the `~/git` directory on your computer, read the README.md file and follow the instructions. Once you push your submission to the server and the code passes all tests you will be done with your work on this platform! Good luck!\n",
    "\n",
    "\n",
    "\n"
   ]
  }
 ],
 "metadata": {
  "jupytext": {
   "cell_metadata_filter": "name,-all"
  },
  "kernelspec": {
   "display_name": "Python 3 (ipykernel)",
   "language": "python",
   "name": "python3"
  },
  "language_info": {
   "codemirror_mode": {
    "name": "ipython",
    "version": 3
   },
   "file_extension": ".py",
   "mimetype": "text/x-python",
   "name": "python",
   "nbconvert_exporter": "python",
   "pygments_lexer": "ipython3",
   "version": "3.11.9"
  }
 },
 "nbformat": 4,
 "nbformat_minor": 5
}
