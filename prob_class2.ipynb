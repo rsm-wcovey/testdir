{
 "cells": [
  {
   "cell_type": "markdown",
   "metadata": {},
   "source": []
  },
  {
   "cell_type": "code",
   "execution_count": 31,
   "metadata": {},
   "outputs": [
    {
     "name": "stdout",
     "output_type": "stream",
     "text": [
      "Probability calculator\n",
      "Distribution: Normal\n",
      "Mean        : 4620\n",
      "St. dev     : 2209\n",
      "Lower bound : 0.98\n",
      "Upper bound : 1\n",
      "\n",
      "P(X < 9156.731) = 0.98\n",
      "P(X > 9156.731) = 0.02\n",
      "None\n"
     ]
    }
   ],
   "source": [
    "import pyrsm as rsm\n",
    "\n",
    "ger = rsm.basics.prob_calc(\"norm\", mean=4200, stdev=2200, plb = .98)\n",
    "swi = rsm.basics.prob_calc(\"norm\", mean=420, stdev=200, plb = .98)\n",
    "com = rsm.basics.prob_calc(\"norm\", mean=4620, stdev=2209, plb = .98)\n",
    "print(com.summary())\n"
   ]
  },
  {
   "cell_type": "code",
   "execution_count": 32,
   "metadata": {},
   "outputs": [
    {
     "data": {
      "text/plain": [
       "0.13590512198327787"
      ]
     },
     "execution_count": 32,
     "metadata": {},
     "output_type": "execute_result"
    }
   ],
   "source": [
    "from scipy.stats import norm\n",
    "norm.cdf(150, 100, 25) - norm.cdf(125, 100, 25)\n",
    "\n",
    "norm.cdf(5000, loc=4200, scale=2200) + norm.sf(5000, loc=4200, scale=2200)\n",
    "def norm_integral(b, a, mu, sigma):\n",
    "    return norm.cdf(b, loc=mu, scale=sigma) - norm.cdf(a, loc=mu, scale=sigma)\n",
    "norm_integral(150, 125, 100, 25)"
   ]
  },
  {
   "cell_type": "code",
   "execution_count": 13,
   "metadata": {},
   "outputs": [
    {
     "name": "stdout",
     "output_type": "stream",
     "text": [
      "Help on function prob_binom in module pyrsm.basics.probability_calculator_functions:\n",
      "\n",
      "prob_binom(n: int, p: float, lb=None, ub=None, plb=None, pub=None)\n",
      "\n"
     ]
    }
   ],
   "source": [
    "from scipy.stats import binom\n",
    "binom.mean(60, .8)\n",
    "\n",
    "help(rsm.basics.prob_binom)\n"
   ]
  },
  {
   "cell_type": "code",
   "execution_count": null,
   "metadata": {},
   "outputs": [],
   "source": []
  }
 ],
 "metadata": {
  "kernelspec": {
   "display_name": "base",
   "language": "python",
   "name": "python3"
  },
  "language_info": {
   "codemirror_mode": {
    "name": "ipython",
    "version": 3
   },
   "file_extension": ".py",
   "mimetype": "text/x-python",
   "name": "python",
   "nbconvert_exporter": "python",
   "pygments_lexer": "ipython3",
   "version": "3.11.9"
  }
 },
 "nbformat": 4,
 "nbformat_minor": 2
}
