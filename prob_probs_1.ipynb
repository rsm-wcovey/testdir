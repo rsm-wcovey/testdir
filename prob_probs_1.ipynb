{
 "cells": [
  {
   "cell_type": "code",
   "execution_count": 6,
   "metadata": {},
   "outputs": [
    {
     "name": "stdout",
     "output_type": "stream",
     "text": [
      "0.476\n",
      "0.009000000000000001\n"
     ]
    }
   ],
   "source": [
    "#2.4\n",
    "p41 = .7\n",
    "p42 = .85\n",
    "p43 = .8\n",
    "\n",
    "p_all = p41 * p42 * p43\n",
    "p_none = (1 - p41) * (1 - p42) * (1 - p43)\n",
    "print(p_all)\n",
    "print(p_none)"
   ]
  },
  {
   "cell_type": "code",
   "execution_count": 16,
   "metadata": {},
   "outputs": [
    {
     "name": "stdout",
     "output_type": "stream",
     "text": [
      "0.3333333333333333\n"
     ]
    }
   ],
   "source": [
    "#2.8 (c) under the assumptions laid out in the exercise that we \n",
    "# pick 1 box followed by the host opening 1 of the other 2 boxes \n",
    "# and that opened box being empty, this question is really asking \n",
    "# the probability of box C being the winning box. If we pick box\n",
    "# A and box C is the winning box, then the host will always open \n",
    "# box B. Thus the joint probability of the host opening box B and \n",
    "# box C being the winning box is the probability of box C being \n",
    "# the winning box = 1/3.\n",
    "p8Cw = 1/3\n",
    "print(p8C)"
   ]
  },
  {
   "cell_type": "code",
   "execution_count": 19,
   "metadata": {},
   "outputs": [
    {
     "name": "stdout",
     "output_type": "stream",
     "text": [
      "0.16666666666666666\n"
     ]
    }
   ],
   "source": [
    "#2.8 (d) under the same assumptions described above, if we pick \n",
    "# box A and box A is the winning box, then # both boxes B and C \n",
    "# are empty, and the host can open either box. The joint probability\n",
    "# of box A being the winning box and the host opening box C is the \n",
    "# probability of box A being the winning box (1/3) multiplied by the\n",
    "# probability of the host opening box C between boxes B and C (1/2)\n",
    "# = 1/6.\n",
    "p8Aw = 1/3\n",
    "P8_openC_Aw = 1/2\n",
    "print(p8Aw * P8_openC_Aw)  "
   ]
  },
  {
   "cell_type": "code",
   "execution_count": 50,
   "metadata": {},
   "outputs": [
    {
     "name": "stdout",
     "output_type": "stream",
     "text": [
      "0.55\n",
      "11.739999999999998\n",
      "1.514067369703211\n"
     ]
    }
   ],
   "source": [
    "#2.12\n",
    "import numpy as np\n",
    "import pandas as pd\n",
    "from scipy.stats import rv_discrete\n",
    "x = np.array([9, 10, 11, 12, 13, 14, 15])\n",
    "p = np.array([.07, .15, .23, .25, .15, .12, .03])\n",
    "df = pd.DataFrame({\n",
    "    'return': x,\n",
    "    'prob': p\n",
    "})\n",
    "\n",
    "p_atleast12 = df['prob'][df['return'] >= 12].sum()\n",
    "print(p_atleast12)\n",
    "\n",
    "expected_return = np.dot(df['return'], df['prob'])\n",
    "print(expected_return)\n",
    "\n",
    "stdi = np.sqrt(np.dot((df['return'] - expected_return)**2, df['prob']))\n",
    "print(stdi)\n"
   ]
  },
  {
   "cell_type": "code",
   "execution_count": 51,
   "metadata": {},
   "outputs": [
    {
     "name": "stdout",
     "output_type": "stream",
     "text": [
      "11.739999999999998\n",
      "0.25\n",
      "0.55\n",
      "1.5140673697032254\n"
     ]
    }
   ],
   "source": [
    "dist = rv_discrete(name=\"return dist\", values=(x, p))\n",
    "print(dist.mean())\n",
    "print(dist.pmf(12))\n",
    "print(dist.sf(11))\n",
    "print(dist.std())"
   ]
  }
 ],
 "metadata": {
  "kernelspec": {
   "display_name": "base",
   "language": "python",
   "name": "python3"
  },
  "language_info": {
   "codemirror_mode": {
    "name": "ipython",
    "version": 3
   },
   "file_extension": ".py",
   "mimetype": "text/x-python",
   "name": "python",
   "nbconvert_exporter": "python",
   "pygments_lexer": "ipython3",
   "version": "3.11.9"
  }
 },
 "nbformat": 4,
 "nbformat_minor": 2
}
