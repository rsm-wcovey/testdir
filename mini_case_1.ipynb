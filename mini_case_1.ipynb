{
 "cells": [
  {
   "cell_type": "markdown",
   "id": "71a3484d",
   "metadata": {},
   "source": [
    "\n",
    "## For Local analysis\n",
    "\n",
    "If you prefer to develop your code in VS Code in a Jupyter notebook, you can download <a href=\"cases/mini_case_1.ipynb\">mini_case_1.ipynb</a>. This notebook file has the same text and code snippets that you see on this webpage. After creating the required code, copy-and-paste it into the code-inputs on this webpage for testing."
   ]
  },
  {
   "cell_type": "markdown",
   "id": "983af173",
   "metadata": {},
   "source": [
    "## Calculate word length"
   ]
  },
  {
   "cell_type": "code",
   "execution_count": 5,
   "id": "11dc2cdd",
   "metadata": {
    "name": "unnamed-chunk-1"
   },
   "outputs": [
    {
     "data": {
      "text/plain": [
       "{'tax': 3, 'house': 5, 'purple': 6}"
      ]
     },
     "execution_count": 5,
     "metadata": {},
     "output_type": "execute_result"
    }
   ],
   "source": [
    "# Question 1.01: Create a function that returns a dictionary with word lengths\n",
    "# and \"keys\". Use a loop to evaluate each word separately using the `len`\n",
    "# function. For example, `len(\"something\")` would return 9. Initialize a\n",
    "# dictionary `wl` that is the same length as the list of words passed to your\n",
    "# function and fill the dictionary with the number of characters in each word.\n",
    "# Use the actual words as the keys for the dictionary. Note that your function\n",
    "# should work with any list with one or more words\n",
    "\n",
    "def word_length(words):\n",
    "\n",
    "    wl = {w: len(w) for w in words}\n",
    "\n",
    "    return wl\n",
    "\n",
    "\n",
    "word_length([\"mouse\", \"king\"])  # should return 5 and 4 in a dictionary\n",
    "word_length([\"tax\", \"house\", \"purple\"])  # should return 3, 5, and 6 in a dictionary"
   ]
  },
  {
   "cell_type": "markdown",
   "id": "2d23335e",
   "metadata": {},
   "source": [
    "## Longest word (Python)\n",
    "\n",
    "You have now developed a function `word_length` that works similarly to `nchar` in R. That is, `word_length(\"a\", \"we\", \"are\")` will return a dictionary with the numbers 1, 2, and 3, with corresponding dictionary keys. We will use this function in the remaining exercises below.\n"
   ]
  },
  {
   "cell_type": "code",
   "execution_count": 24,
   "id": "c4385d66",
   "metadata": {
    "name": "unnamed-chunk-2"
   },
   "outputs": [
    {
     "data": {
      "text/plain": [
       "'Sorry. Please provide exactly two words to compare'"
      ]
     },
     "execution_count": 24,
     "metadata": {},
     "output_type": "execute_result"
    }
   ],
   "source": [
    "# Question 1.02: Use your `word_length` function to calculate the length of two\n",
    "# words in a list. Then compare the length of the words and `return` a string\n",
    "# that describes (1) if one word is longer than the other and (2) how long both\n",
    "# words are if they are equally long. The examples shown below indicate\n",
    "# **exactly** what text you should generate. This includes the number of\n",
    "# spaces! In this function you will need to use `if-else` statements and\n",
    "# combine strings and numbers using f-strings or concatenation (`+`)\n",
    "\n",
    "def longest_word(words):\n",
    "\n",
    "    if len(words) != 2:\n",
    "        mess = \"Sorry. Please provide exactly two words to compare\"\n",
    "\n",
    "    else:\n",
    "        dct = word_length(words)\n",
    "        if dct[words[0]] == dct[words[1]]:\n",
    "            mess = \"Both words are \" + str(dct[words[0]]) + \" characters long\"\n",
    "\n",
    "        elif dct[words[0]] > dct[words[1]]:\n",
    "            mess = \"The first word is longest, \" + str(dct[words[0]]) + \" > \" + str(dct[words[1]])\n",
    "        \n",
    "        elif dct[words[0]] < dct[words[1]]:\n",
    "            mess = \"The second word is longest, \" + str(dct[words[0]]) + \" < \" + str(dct[words[1]])\n",
    "\n",
    "\n",
    "    return mess  # return message as a string\n",
    "\n",
    "\n",
    "longest_word([\"mouse\", \"king\"])  # should return \"The first word is longest, 5 > 4\"\n",
    "longest_word([\"tax\", \"house\"])  # should return \"The second word is longest, 3 < 5\"\n",
    "longest_word([\"purple\", \"orange\"])  # should return \"Both words are 6 characters long\"\n",
    "longest_word([\"purple\", \"orange\", \"red\"])  # should return \"Sorry. Please provide exactly two words to compare\""
   ]
  },
  {
   "cell_type": "markdown",
   "id": "39d49c36",
   "metadata": {},
   "source": [
    "## Shortest word\n",
    "\n",
    "Our `longest_word` function works fine if we only have two words to compare. What if we want to find the shortest word in a list of any length?\n"
   ]
  },
  {
   "cell_type": "code",
   "execution_count": 28,
   "id": "859a272c",
   "metadata": {
    "name": "unnamed-chunk-3"
   },
   "outputs": [
    {
     "data": {
      "text/plain": [
       "6"
      ]
     },
     "execution_count": 28,
     "metadata": {},
     "output_type": "execute_result"
    }
   ],
   "source": [
    "# Question 1.03: Again, use your `word_length` function to calculate the number\n",
    "# of characters in each word passed to the `shortest_word` function. Then use a\n",
    "# loop to determine the length of the shortest word. You should only use the\n",
    "# `word_length` function, a for loop, and an if-statement to complete this\n",
    "# exercise. You may also want to iterate over only the word-length values by\n",
    "# using the `.values()` method for a dictionary\n",
    "\n",
    "def shortest_word(words):\n",
    "    dct = word_length(words)\n",
    "    s = dct[words[0]]\n",
    "    for v in dct.values():\n",
    "        if v < s:\n",
    "            s = v\n",
    "\n",
    "    return s  # length of the shortest word\n",
    "\n",
    "\n",
    "shortest_word([\"mouse\", \"king\"])  # should return 4\n",
    "shortest_word([\"tax\", \"house\"])  # should return 3\n",
    "shortest_word([\"purple\", \"orange\"])  # should return 6\n"
   ]
  },
  {
   "cell_type": "markdown",
   "id": "0b86812d",
   "metadata": {},
   "source": [
    "## Shortest words\n",
    "\n",
    "The `shortest_word` function works if we only want the shortest word. Things become a bit more complex if we want the shortest and the next shortest word length.\n"
   ]
  },
  {
   "cell_type": "code",
   "execution_count": 38,
   "id": "05a49c83",
   "metadata": {
    "name": "unnamed-chunk-4"
   },
   "outputs": [
    {
     "data": {
      "text/plain": [
       "[4, 4]"
      ]
     },
     "execution_count": 38,
     "metadata": {},
     "output_type": "execute_result"
    }
   ],
   "source": [
    "# Question 1.04: Again, use your `word_length` function to calculate the number\n",
    "# of characters in each word passed to the `shortest_words` function. Then use\n",
    "# a loop to determine the length of the shortest word. You will also need to\n",
    "# update the length of the next shortest word as you iterate through the word\n",
    "# lengths. You should only use the `word_length` function, a for loop, and an\n",
    "# if-else-if statement to complete this exercise\n",
    "\n",
    "from math import inf\n",
    "\n",
    "\n",
    "def shortest_words(words):\n",
    "    wl = word_length(words)\n",
    "    s = inf  # initial value for shortest word length\n",
    "    ns = inf  # initial value for next shortest word length\n",
    "\n",
    "    for w in words:\n",
    "        if wl[w] < s:\n",
    "            s = wl[w]\n",
    "            rmv = w\n",
    "\n",
    "    for w in words:\n",
    "        if wl[w] < ns and w != rmv:\n",
    "            ns = wl[w]\n",
    "\n",
    "    return [s, ns]  # length of the shortest and next shortest word\n",
    "\n",
    "\n",
    "shortest_words([\"mouse\", \"king\", \"on\"])  # should return [2, 4]\n",
    "shortest_words([\"tax\", \"house\", \"blue\"])  # should return [3, 4]\n",
    "shortest_words([\"purple\", \"red\", \"turquoise\"])  # should return [3, 6]\n",
    "shortest_words([\"blue\", \"house\", \"king\"])  # should return [4, 4]"
   ]
  },
  {
   "cell_type": "markdown",
   "id": "b99012d9",
   "metadata": {},
   "source": [
    "## Shortest actual words (Python)\n",
    "\n",
    "The `shortest_words` function provides the lengths of the two shortest words in a list. Now write a new function called `shortest_actual_words` that returns the shortest and next shortest words.\n"
   ]
  },
  {
   "cell_type": "code",
   "execution_count": 42,
   "id": "12ae4cf5",
   "metadata": {
    "name": "unnamed-chunk-5"
   },
   "outputs": [
    {
     "data": {
      "text/plain": [
       "['red', 'tax']"
      ]
     },
     "execution_count": 42,
     "metadata": {},
     "output_type": "execute_result"
    }
   ],
   "source": [
    "# Question 1.05: Create a function called `shortest_actual_words` that returns\n",
    "# the actual shortest and next shortest words rather than their word lengths.\n",
    "# Note: Your function should use `for` and `if-elif` statements but no other\n",
    "# functions from Python.\n",
    "\n",
    "from math import inf\n",
    "\n",
    "\n",
    "def shortest_actual_words(words):\n",
    "    wl = word_length(words)\n",
    "    s = inf  # initial value for shortest word length\n",
    "    ns = inf  # initial value for next shortest word length\n",
    "    sw = \"\"  # initial value for shortest actual word\n",
    "    nsw = \"\"  # initial value for next shortest actual word\n",
    "\n",
    "    for w in words:\n",
    "        if wl[w] < s:\n",
    "            s = wl[w]\n",
    "            sw = w\n",
    "            \n",
    "    for w in words:\n",
    "        if wl[w] < ns and w != sw:\n",
    "            ns = wl[w]\n",
    "            nsw = w\n",
    "\n",
    "    return [sw, nsw]\n",
    "\n",
    "\n",
    "shortest_actual_words([\"mouse\", \"king\", \"on\"])  # should return [\"on\", \"king\"]\n",
    "shortest_actual_words([\"tax\", \"house\", \"blue\"])  # should return [\"tax\", \"blue\"]\n",
    "shortest_actual_words([\"purple\", \"red\", \"turquoise\"])  # should return [\"red\", \"purple\"]\n",
    "shortest_actual_words([\"purple\", \"red\", \"tax\"])  # should return [\"red\", \"tax\"]"
   ]
  },
  {
   "cell_type": "markdown",
   "id": "b90f6c3a",
   "metadata": {},
   "source": [
    "## Mean and median word length (Python)\n",
    "\n",
    "To wrap up this section on Python coding you will need to calculate mean and median word lengths. \n"
   ]
  },
  {
   "cell_type": "code",
   "execution_count": 97,
   "id": "25372dfe",
   "metadata": {
    "name": "unnamed-chunk-6"
   },
   "outputs": [
    {
     "data": {
      "text/plain": [
       "6"
      ]
     },
     "execution_count": 97,
     "metadata": {},
     "output_type": "execute_result"
    }
   ],
   "source": [
    "# Question 1.06: Create a function called `mean_word_length` that returns the\n",
    "# average length from a list of words. Note: Your function should use a for\n",
    "# loop, `word_length`, and `len` but no other functions from Python. Since you\n",
    "# only need the word length values here you can use the `.values()` method for\n",
    "# a dictionary\n",
    "\n",
    "def mean_word_length(words):\n",
    "    wl = word_length(words)\n",
    "    wl_sum = 0\n",
    "\n",
    "    for v in wl.values():\n",
    "        wl_sum += v\n",
    "\n",
    "    wl_mean = wl_sum / len(words)\n",
    "\n",
    "    if round(wl_mean) == wl_mean:\n",
    "        return round(wl_mean)  # mean word length\n",
    "    \n",
    "    else:\n",
    "        return round(wl_mean, 6)\n",
    "\n",
    "\n",
    "mean_word_length([\"mouse\", \"king\", \"on\"])  # should return 3.666667\n",
    "mean_word_length([\"tax\", \"house\", \"blue\"])  # should return 4\n",
    "mean_word_length([\"purple\", \"red\", \"turquoise\"])  # should return 6"
   ]
  },
  {
   "cell_type": "markdown",
   "id": "41412052",
   "metadata": {},
   "source": [
    "In case you are not yet familiar with them, you may want to to review the documentation for <a href=\"https://docs.python.org/3/library/math.html\" target=\"_blank\">floor</a> and the <a href=\"https://docs.python.org/3/howto/sorting.html\" target=\"_blank\">sort</a> method for lists when you try to calculate the median word length. You can also apply the `sorted` function to a list in Python.\n"
   ]
  },
  {
   "cell_type": "code",
   "execution_count": 86,
   "id": "a94409c0",
   "metadata": {
    "name": "unnamed-chunk-7"
   },
   "outputs": [
    {
     "data": {
      "text/plain": [
       "6"
      ]
     },
     "execution_count": 86,
     "metadata": {},
     "output_type": "execute_result"
    }
   ],
   "source": [
    "# Question 1.07: Create a function called `median_word_length` that returns the\n",
    "# median length from a list of words. Note: Your function should use an\n",
    "# `if-else` statement, `word_length`, `len`, `sort`, and `floor` but no other\n",
    "# functions from Python\n",
    "\n",
    "from math import floor\n",
    "\n",
    "\n",
    "def median_word_length(words):\n",
    "    wl = list(word_length(words).values())\n",
    "    len_wl = len(wl)\n",
    "    wl.sort()  # recall that lists are mutable and so are sorted in-place\n",
    "    mid = floor(len_wl/2)\n",
    "\n",
    "    if len_wl % 2 != 0:\n",
    "        wls_median = wl[mid]\n",
    "    \n",
    "    else:\n",
    "        wls_median = (wl[mid] + wl[mid-1]) / 2\n",
    "\n",
    "    return wls_median\n",
    "\n",
    "\n",
    "median_word_length([\"mouse\", \"on\"])  # should return 3.5\n",
    "median_word_length([\"tax\", \"house\", \"blue\"])  # should return 4\n",
    "median_word_length([\"purple\", \"red\", \"turquoise\"])  # should return 6"
   ]
  },
  {
   "cell_type": "code",
   "execution_count": null,
   "id": "f44750c8",
   "metadata": {
    "name": "unnamed-chunk-8"
   },
   "outputs": [],
   "source": [
    "# Question 1.08: If you used Code Interpreter in ChatGPT+, please provide the link to the chat session you used here. You can find the link by clicking on the 'Share' button in the upper right corner of the ChatGPT+ window as shown in the screenshot below. If you used another AI-tool, please provide your prompt and the URL for the tool."
   ]
  },
  {
   "cell_type": "markdown",
   "id": "3b49576f",
   "metadata": {},
   "source": [
    "<div style=\"text-align:center;\">\n",
    "  <img src=\"images/ebike-trails.png\" height=\"500px\" />\n",
    "</div>\n"
   ]
  },
  {
   "cell_type": "code",
   "execution_count": null,
   "id": "c11c4326",
   "metadata": {
    "name": "unnamed-chunk-9"
   },
   "outputs": [],
   "source": [
    "# Question 1.09: Please write a short reflection on what AI-tools were and were not useful for when you worked on this case. 3-4 lines of text should be sufficient."
   ]
  },
  {
   "cell_type": "markdown",
   "id": "9e48a2ee",
   "metadata": {},
   "source": [
    "## GitHub Extension for Case 1, Part A\n",
    "\n",
    "Your next step is to complete an extension of the exercise above using Git and GitHub. Click on the link below that corresponds to your section and follow the instructions to complete the extension.\n",
    "\n",
    "* FW MSBA: <a href=\"https://classroom.github.com/a/N3dyexir\" target=\"_blank\" rel=\"noopener noreferrer\">https://classroom.github.com/a/N3dyexir</a>\n",
    "* FT MSBA: <a href=\"https://classroom.github.com/a/cmk0mjRL\" target=\"_blank\" rel=\"noopener noreferrer\">https://classroom.github.com/a/cmk0mjRL</a>\n",
    "\n",
    "Once you accept the assignment, you will be able to access your repository through the provided link and also at <a href=\"https://github.com/rsm-msba-24-25\" target=\"_blank\" rel=\"noopener noreferrer\">https://github.com/rsm-msba-24-25</a>.\n",
    "\n",
    "After cloning the repo to the `~/git` directory on your computer, read the README.md file and follow the instructions. Once you push your submission to the server and the code passes all tests you will be ready to take on Case 2! Good luck!\n",
    "\n",
    "\n"
   ]
  }
 ],
 "metadata": {
  "jupytext": {
   "cell_metadata_filter": "name,-all"
  },
  "kernelspec": {
   "display_name": "Python 3 (ipykernel)",
   "language": "python",
   "name": "python3"
  },
  "language_info": {
   "codemirror_mode": {
    "name": "ipython",
    "version": 3
   },
   "file_extension": ".py",
   "mimetype": "text/x-python",
   "name": "python",
   "nbconvert_exporter": "python",
   "pygments_lexer": "ipython3",
   "version": "3.11.9"
  }
 },
 "nbformat": 4,
 "nbformat_minor": 5
}
